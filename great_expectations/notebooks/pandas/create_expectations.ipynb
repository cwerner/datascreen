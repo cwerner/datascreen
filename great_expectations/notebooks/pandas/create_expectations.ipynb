{
 "cells": [
  {
   "cell_type": "markdown",
   "metadata": {},
   "source": [
    "# Create Expectation Interactively"
   ]
  },
  {
   "cell_type": "code",
   "execution_count": 63,
   "metadata": {},
   "outputs": [
    {
     "name": "stdout",
     "output_type": "stream",
     "text": [
      "The autoreload extension is already loaded. To reload it, use:\n",
      "  %reload_ext autoreload\n"
     ]
    }
   ],
   "source": [
    "%matplotlib inline\n",
    "%load_ext autoreload\n",
    "%autoreload 2"
   ]
  },
  {
   "cell_type": "markdown",
   "metadata": {},
   "source": [
    "# Author Expectations\n",
    "\n",
    "Watch a [short tutorial video](https://greatexpectations.io/videos/getting_started/create_expectations?utm_source=notebook&utm_medium=create_expectations) or read [the written tutorial](https://docs.greatexpectations.io/en/latest/tutorials/create_expectations.html?utm_source=notebook&utm_medium=create_expectations)\n",
    "\n",
    "We'd love it if you **reach out for help on** the [**Great Expectations Slack Channel**](https://greatexpectations.io/slack)"
   ]
  },
  {
   "cell_type": "code",
   "execution_count": 64,
   "metadata": {},
   "outputs": [],
   "source": [
    "S3_ENDPOINT = \"https://minio.cwerner.ai\"\n",
    "#S3_ENDPOINT = \"https://s3.imk-ifu.kit.edu:8082\"\n",
    "BUCKET_NAME = 'ge-example'"
   ]
  },
  {
   "cell_type": "code",
   "execution_count": 65,
   "metadata": {},
   "outputs": [],
   "source": [
    "# monkey patch boto3\n",
    "import functools\n",
    "import boto3\n",
    "boto3.client = functools.partial(boto3.client, endpoint_url=S3_ENDPOINT)\n",
    "boto3.resource = functools.partial(boto3.resource, endpoint_url=S3_ENDPOINT)\n",
    "\n",
    "import json\n",
    "import os\n",
    "import great_expectations as ge\n",
    "import great_expectations.jupyter_ux\n",
    "import pandas as pd"
   ]
  },
  {
   "cell_type": "code",
   "execution_count": 66,
   "metadata": {},
   "outputs": [],
   "source": [
    "# minio credentials\n",
    "AWS_ACCESS_KEY_ID = \"ENXJEPJGSyWjaCc63bci\" \n",
    "AWS_SECRET_ACCESS_KEY = \"yT9m0N2VjWGgqkQ51E94EgpcZVyzPJBU\" \n",
    "S3_ENDPOINT = \"https://minio.cwerner.ai\"\n",
    "S3DIRECT_REGION = \"us-east-1\"\n",
    "os.environ['AWS_ACCESS_KEY_ID'] = AWS_ACCESS_KEY_ID\n",
    "os.environ['AWS_SECRET_ACCESS_KEY'] = AWS_SECRET_ACCESS_KEY\n",
    "os.environ['S3DIRECT_REGION'] = S3DIRECT_REGION\n",
    "os.environ['S3_ENDPOINT'] = S3_ENDPOINT"
   ]
  },
  {
   "cell_type": "raw",
   "metadata": {},
   "source": [
    "# storagegrid ifu credentials\n",
    "AWS_ACCESS_KEY_ID = \"MT50BO56G3SX7G8UCK3K\" \n",
    "AWS_SECRET_ACCESS_KEY = \"KBITXzTCpXNUMhd4b7yhRuQlnj2i2qXcugnMQ5DX\" \n",
    "S3_ENDPOINT = \"https://s3.imk-ifu.kit.edu:8082\"\n",
    "S3DIRECT_REGION = \"us-east-1\"\n",
    "os.environ['AWS_ACCESS_KEY_ID'] = AWS_ACCESS_KEY_ID\n",
    "os.environ['AWS_SECRET_ACCESS_KEY'] = AWS_SECRET_ACCESS_KEY\n",
    "os.environ['S3DIRECT_REGION'] = S3DIRECT_REGION\n",
    "os.environ['S3_ENDPOINT'] = S3_ENDPOINT"
   ]
  },
  {
   "cell_type": "code",
   "execution_count": 67,
   "metadata": {},
   "outputs": [
    {
     "data": {
      "text/plain": [
       "'0.8.6'"
      ]
     },
     "execution_count": 67,
     "metadata": {},
     "output_type": "execute_result"
    }
   ],
   "source": [
    "ge.__version__"
   ]
  },
  {
   "cell_type": "code",
   "execution_count": 68,
   "metadata": {},
   "outputs": [
    {
     "name": "stdout",
     "output_type": "stream",
     "text": [
      "https://minio.cwerner.ai ENXJEPJGSyWjaCc63bci\n"
     ]
    }
   ],
   "source": [
    "! echo $S3_ENDPOINT $AWS_ACCESS_KEY_ID"
   ]
  },
  {
   "cell_type": "markdown",
   "metadata": {},
   "source": [
    "## 1. Get a DataContext\n",
    "This represents your **project** that you just created using `great_expectations init`. [Read more in the tutorial](https://docs.greatexpectations.io/en/latest/tutorials/create_expectations.html?utm_source=notebook&utm_medium=create_expectations#get-a-datacontext-object)"
   ]
  },
  {
   "cell_type": "code",
   "execution_count": 69,
   "metadata": {},
   "outputs": [
    {
     "name": "stdout",
     "output_type": "stream",
     "text": [
      "2019-12-05T09:45:59+0100 - INFO - Using project config: /Users/werner-ch/Documents/Repos/ge-example/great_expectations/great_expectations.yml\n"
     ]
    },
    {
     "data": {
      "text/plain": [
       "<great_expectations.data_context.data_context.DataContext at 0x11f9e44c0>"
      ]
     },
     "execution_count": 69,
     "metadata": {},
     "output_type": "execute_result"
    }
   ],
   "source": [
    "context = ge.data_context.DataContext()\n",
    "context"
   ]
  },
  {
   "cell_type": "markdown",
   "metadata": {},
   "source": [
    "## 2. List the CSVs in your folder\n",
    "\n",
    "The `DataContext` will now introspect your pandas `Datasource` and list the CSVs it finds. [Read more in the tutorial](https://docs.greatexpectations.io/en/latest/tutorials/create_expectations.html?utm_source=notebook&utm_medium=create_expectations#list-data-assets)"
   ]
  },
  {
   "cell_type": "code",
   "execution_count": 70,
   "metadata": {},
   "outputs": [
    {
     "name": "stdout",
     "output_type": "stream",
     "text": [
      "Inspecting your data sources. This may take a moment...\n"
     ]
    },
    {
     "data": {
      "text/html": [
       "<h2 style='margin: 0'>Datasource: tereno_fendt (PandasDatasource)</h2>generator: s3 (S3Generator)<h3 style='margin: 0.2em 0'>Data Assets Found:</h3>\n",
       "    <style type='text/css'>\n",
       "    ul.data-assets {\n",
       "        margin-top: 0px;\n",
       "    }\n",
       "    ul.data-assets li {\n",
       "        line-height: 1.2em;\n",
       "        list-style-type: circle;\n",
       "    }\n",
       "    ul.data-assets li span.expectation-suite {\n",
       "        background: #ddd;\n",
       "    }\n",
       "    </style>\n",
       "    <ul class='data-assets'><li>data_2018</li><ul><li><span class='expectation-suite'>Expectation Suite</span>: basic</li></ul><li>data_2019</li></ul>"
      ],
      "text/plain": [
       "<IPython.core.display.HTML object>"
      ]
     },
     "metadata": {},
     "output_type": "display_data"
    }
   ],
   "source": [
    "great_expectations.jupyter_ux.list_available_data_asset_names(context)"
   ]
  },
  {
   "cell_type": "code",
   "execution_count": 71,
   "metadata": {},
   "outputs": [
    {
     "data": {
      "text/plain": [
       "[{'data_asset_name': tereno_fendt/s3/data_2018,\n",
       "  'expectation_suite_name': 'basic'},\n",
       " {'data_asset_name': tereno_fendt/s3/data_2018/basic,\n",
       "  'expectation_suite_name': '2019-11-28T083557.585527Z'},\n",
       " {'data_asset_name': tereno_fendt/s3/data_2018/basic,\n",
       "  'expectation_suite_name': '2019-11-28T083953.866517Z'},\n",
       " {'data_asset_name': tereno_fendt/s3/data_2018/basic,\n",
       "  'expectation_suite_name': '2019-11-28T084656.492846Z'},\n",
       " {'data_asset_name': tereno_fendt/s3/data_2018/basic,\n",
       "  'expectation_suite_name': '2019-11-28T111151.292794Z'},\n",
       " {'data_asset_name': tereno_fendt/s3/data_2018/basic,\n",
       "  'expectation_suite_name': '2019-11-28T111746.568767Z'},\n",
       " {'data_asset_name': tereno_fendt/s3/data_2018/basic,\n",
       "  'expectation_suite_name': '2019-11-28T113138.181305Z'},\n",
       " {'data_asset_name': tereno_fendt/s3/data_2018/basic,\n",
       "  'expectation_suite_name': '2019-11-28T124021.705060Z'},\n",
       " {'data_asset_name': tereno_fendt/s3/data_2018/basic,\n",
       "  'expectation_suite_name': '2019-11-28T124702.340515Z'},\n",
       " {'data_asset_name': tereno_fendt/s3/data_2018/basic,\n",
       "  'expectation_suite_name': '2019-11-28T124913.835265Z'},\n",
       " {'data_asset_name': tereno_fendt/s3/data_2018/basic,\n",
       "  'expectation_suite_name': '2019-11-28T125153.495437Z'},\n",
       " {'data_asset_name': tereno_fendt/s3/data_2018/basic,\n",
       "  'expectation_suite_name': '2019-11-28T125654.187738Z'},\n",
       " {'data_asset_name': tereno_fendt/s3/sensors,\n",
       "  'expectation_suite_name': 'basic'}]"
      ]
     },
     "execution_count": 71,
     "metadata": {},
     "output_type": "execute_result"
    }
   ],
   "source": [
    "context.list_expectation_suite_keys()"
   ]
  },
  {
   "cell_type": "markdown",
   "metadata": {},
   "source": [
    "## 3. Pick a CSV and set the expectation suite name\n",
    "\n",
    "Internally, Great Expectations represents CSVs and dataframes as `DataAsset`s and uses this notion to link them to `Expectation Suites`. [Read more in the tutorial](https://docs.greatexpectations.io/en/latest/tutorials/create_expectations.html?utm_source=notebook&utm_medium=create_expectations#pick-a-data-asset-and-set-the-expectation-suite-name)\n"
   ]
  },
  {
   "cell_type": "code",
   "execution_count": 72,
   "metadata": {},
   "outputs": [
    {
     "data": {
      "text/plain": [
       "NormalizedDataAssetName(datasource='tereno_fendt', generator='s3', generator_asset='data_2018')"
      ]
     },
     "execution_count": 72,
     "metadata": {},
     "output_type": "execute_result"
    }
   ],
   "source": [
    "data_asset_name = \"data_2018\" #\"Fen_M_19_234\" \n",
    "normalized_data_asset_name = context.normalize_data_asset_name(data_asset_name)\n",
    "normalized_data_asset_name"
   ]
  },
  {
   "cell_type": "markdown",
   "metadata": {},
   "source": [
    "We recommend naming your first expectation suite for a table `warning`. Later, as you identify some of the expectations that you add to this suite as critical, you can move these expectations into another suite and call it `failure`."
   ]
  },
  {
   "cell_type": "code",
   "execution_count": 73,
   "metadata": {},
   "outputs": [],
   "source": [
    "expectation_suite_name = \"basic2\" # TODO: replace with your value!"
   ]
  },
  {
   "cell_type": "code",
   "execution_count": 74,
   "metadata": {},
   "outputs": [
    {
     "name": "stdout",
     "output_type": "stream",
     "text": [
      "data_2018\n",
      "basic2\n"
     ]
    }
   ],
   "source": [
    "print(data_asset_name)\n",
    "print(expectation_suite_name)"
   ]
  },
  {
   "cell_type": "markdown",
   "metadata": {},
   "source": [
    "## 4. Create a new empty expectation suite"
   ]
  },
  {
   "cell_type": "code",
   "execution_count": 75,
   "metadata": {},
   "outputs": [
    {
     "data": {
      "text/plain": [
       "{'data_asset_name': 'tereno_fendt/s3/data_2018',\n",
       " 'expectation_suite_name': 'basic2',\n",
       " 'meta': {'great_expectations.__version__': '0.8.6'},\n",
       " 'expectations': []}"
      ]
     },
     "execution_count": 75,
     "metadata": {},
     "output_type": "execute_result"
    }
   ],
   "source": [
    "context.create_expectation_suite(data_asset_name=data_asset_name, expectation_suite_name=expectation_suite_name, overwrite_existing=True)"
   ]
  },
  {
   "cell_type": "markdown",
   "metadata": {},
   "source": [
    "## 5. Load a batch of data you want to use to create `Expectations`\n",
    "\n",
    "To learn more about `get_batch` with other data types (such as existing pandas dataframes, SQL tables or Spark), see [this tutorial](https://docs.greatexpectations.io/en/latest/tutorials/create_expectations.html?utm_source=notebook&utm_medium=create_expectations#load-a-batch-of-data-to-create-expectations)"
   ]
  },
  {
   "cell_type": "code",
   "execution_count": 76,
   "metadata": {},
   "outputs": [],
   "source": [
    "colnames = open('/Users/werner-ch/Documents/Repos/ge-example/data/colnames.csv').readline()[:-1].split(',')\n"
   ]
  },
  {
   "cell_type": "code",
   "execution_count": 77,
   "metadata": {},
   "outputs": [
    {
     "name": "stdout",
     "output_type": "stream",
     "text": [
      "{'s3': 's3a://ge-example/raw/tereno_fendt/2018/Fen_M_18_001.dat', 'reader_options': {'sep': ',', 'header': None, 'index_col': 'TIMESTAMP', 'na_values': 'NAN', 'engine': 'python', 'encoding': 'utf-8', 'names': ['TIMESTAMP', 'BattV_Avg', 'PTemp_C_Avg', 'Wdmin_Min', 'Wdavg', 'Wdmax_Max', 'Wsmin_Min', 'Wsavg_Avg', 'Wsmax_Max', 'airtemp_Avg', 'relhumidity_Avg', 'airpressure_Avg', 'Ramount', 'Rduration_Avg', 'Rintensity_Avg', 'Hamount', 'Hduration_Avg', 'Hintensity_Avg', 'T107_2_West_Avg', 'T107_6_West_Avg', 'T107_12_West_Avg', 'T107_25_West_Avg', 'T107_35_West_Avg', 'T107_50_West_Avg', 'T107_2_Mitte_Avg', 'T107_6_Mitte_Avg', 'T107_12_Mitte_Avg', 'T107_25_Mitte_Avg', 'T107_35_Mitte_Avg', 'T107_50_Mitte_Avg', 'T107_2_Ost_Avg', 'T107_6_Ost_Avg', 'T107_12_Ost_Avg', 'T107_25_Ost_Avg', 'T107_35_Ost_Avg', 'T107_50_Ost_Avg', 'VWC_2_West_Avg', 'VWC_6_West_Avg', 'VWC_12_West_Avg', 'VWC_25_West_Avg', 'VWC_35_West_Avg', 'VWC_50_West_Avg', 'VWC_2_Mitte_Avg', 'VWC_6_Mitte_Avg', 'VWC_12_Mitte_Avg', 'VWC_25_Mitte_Avg', 'VWC_35_Mitte_Avg', 'VWC_50_Mitte_Avg', 'VWC_2_Ost_Avg', 'VWC_6_Ost_Avg', 'VWC_12_Ost_Avg', 'VWC_25_Ost_Avg', 'VWC_35_Ost_Avg', 'VWC_50_Ost_Avg', 'Snow_Depth', 'PAR_1_Avg', 'PAR_2_Avg', 'SR_Out_Avg', 'SR_In_Avg', 'IR_Out_Avg', 'IR_In_Avg', 'NR01_TC_Avg/CNR4TC_Avg', 'NR01_TK_Avg/CNR4TK_Avg', 'NetRs_Avg', 'NetRl_Avg', 'Albedo_Avg', 'OutTot_Avg', 'InTot_Avg', 'NetTot_Avg', 'IR_OutCo_Avg', 'IR_InCo_Avg', 'H_Flux_8_Ost_neu_Avg', 'H_Flux_9_West_neu_Avg', 'BP_mbar_Avg', 'IR_TempC_Avg', 'Total_Avg', 'Diffuse_Avg', 'Sun', 'H_Flux_sc_9_Ost_Avg', 'H_Flux_sc_8_fernerOst_Avg', 'H_Flux_sc_8_Mitte_Avg', 'shf_cal(1)', 'shf_cal(2)', 'shf_cal(3)'], 'parse_dates': ['TIMESTAMP']}}\n"
     ]
    }
   ],
   "source": [
    "batch_kwargs = context.yield_batch_kwargs(data_asset_name, \n",
    "                                          reader_options={'encoding': 'utf-8',\n",
    "                                                          'names': colnames,\n",
    "                                                          'index_col': 'TIMESTAMP',\n",
    "                                                          'parse_dates': ['TIMESTAMP']\n",
    "                                                         })\n",
    "batch_kwargs = dict(batch_kwargs)\n",
    "print(batch_kwargs)\n",
    "batch_kwargs['reader_method'] = 'csv'\n",
    "\n",
    "#batch_kwargs = {'path': '/Users/werner-ch/Documents/Repos/ge-example/great_expectations/../data/Fen_M_19_234.dat', 'header': 0}"
   ]
  },
  {
   "cell_type": "markdown",
   "metadata": {},
   "source": [
    "Load a batch of data and take a peek at the first few rows."
   ]
  },
  {
   "cell_type": "code",
   "execution_count": 78,
   "metadata": {},
   "outputs": [
    {
     "data": {
      "text/html": [
       "<div>\n",
       "<style scoped>\n",
       "    .dataframe tbody tr th:only-of-type {\n",
       "        vertical-align: middle;\n",
       "    }\n",
       "\n",
       "    .dataframe tbody tr th {\n",
       "        vertical-align: top;\n",
       "    }\n",
       "\n",
       "    .dataframe thead th {\n",
       "        text-align: right;\n",
       "    }\n",
       "</style>\n",
       "<table border=\"1\" class=\"dataframe\">\n",
       "  <thead>\n",
       "    <tr style=\"text-align: right;\">\n",
       "      <th></th>\n",
       "      <th>BattV_Avg</th>\n",
       "      <th>PTemp_C_Avg</th>\n",
       "      <th>Wdmin_Min</th>\n",
       "      <th>Wdavg</th>\n",
       "      <th>Wdmax_Max</th>\n",
       "      <th>Wsmin_Min</th>\n",
       "      <th>Wsavg_Avg</th>\n",
       "      <th>Wsmax_Max</th>\n",
       "      <th>airtemp_Avg</th>\n",
       "      <th>relhumidity_Avg</th>\n",
       "      <th>...</th>\n",
       "      <th>IR_TempC_Avg</th>\n",
       "      <th>Total_Avg</th>\n",
       "      <th>Diffuse_Avg</th>\n",
       "      <th>Sun</th>\n",
       "      <th>H_Flux_sc_9_Ost_Avg</th>\n",
       "      <th>H_Flux_sc_8_fernerOst_Avg</th>\n",
       "      <th>H_Flux_sc_8_Mitte_Avg</th>\n",
       "      <th>shf_cal(1)</th>\n",
       "      <th>shf_cal(2)</th>\n",
       "      <th>shf_cal(3)</th>\n",
       "    </tr>\n",
       "    <tr>\n",
       "      <th>TIMESTAMP</th>\n",
       "      <th></th>\n",
       "      <th></th>\n",
       "      <th></th>\n",
       "      <th></th>\n",
       "      <th></th>\n",
       "      <th></th>\n",
       "      <th></th>\n",
       "      <th></th>\n",
       "      <th></th>\n",
       "      <th></th>\n",
       "      <th></th>\n",
       "      <th></th>\n",
       "      <th></th>\n",
       "      <th></th>\n",
       "      <th></th>\n",
       "      <th></th>\n",
       "      <th></th>\n",
       "      <th></th>\n",
       "      <th></th>\n",
       "      <th></th>\n",
       "      <th></th>\n",
       "    </tr>\n",
       "  </thead>\n",
       "  <tbody>\n",
       "    <tr>\n",
       "      <th>2018-01-01 00:00:00</th>\n",
       "      <td>13.60</td>\n",
       "      <td>-0.053</td>\n",
       "      <td>180</td>\n",
       "      <td>199</td>\n",
       "      <td>211</td>\n",
       "      <td>0.6</td>\n",
       "      <td>0.8</td>\n",
       "      <td>1.0</td>\n",
       "      <td>0.6</td>\n",
       "      <td>89.1</td>\n",
       "      <td>...</td>\n",
       "      <td>-1.930</td>\n",
       "      <td>17.770</td>\n",
       "      <td>18.430</td>\n",
       "      <td>0</td>\n",
       "      <td>-11.27593</td>\n",
       "      <td>-10.07353</td>\n",
       "      <td>-9.107799</td>\n",
       "      <td>0.028665</td>\n",
       "      <td>0.04813</td>\n",
       "      <td>0.048112</td>\n",
       "    </tr>\n",
       "    <tr>\n",
       "      <th>2018-01-01 00:01:00</th>\n",
       "      <td>13.33</td>\n",
       "      <td>-0.053</td>\n",
       "      <td>136</td>\n",
       "      <td>150</td>\n",
       "      <td>167</td>\n",
       "      <td>0.3</td>\n",
       "      <td>0.5</td>\n",
       "      <td>0.7</td>\n",
       "      <td>0.5</td>\n",
       "      <td>88.5</td>\n",
       "      <td>...</td>\n",
       "      <td>-1.972</td>\n",
       "      <td>0.987</td>\n",
       "      <td>1.810</td>\n",
       "      <td>0</td>\n",
       "      <td>-11.27593</td>\n",
       "      <td>-10.03892</td>\n",
       "      <td>-9.107799</td>\n",
       "      <td>0.028665</td>\n",
       "      <td>0.04813</td>\n",
       "      <td>0.048112</td>\n",
       "    </tr>\n",
       "    <tr>\n",
       "      <th>2018-01-01 00:02:00</th>\n",
       "      <td>13.33</td>\n",
       "      <td>-0.056</td>\n",
       "      <td>156</td>\n",
       "      <td>166</td>\n",
       "      <td>183</td>\n",
       "      <td>0.5</td>\n",
       "      <td>0.7</td>\n",
       "      <td>0.8</td>\n",
       "      <td>0.5</td>\n",
       "      <td>88.3</td>\n",
       "      <td>...</td>\n",
       "      <td>-1.902</td>\n",
       "      <td>1.645</td>\n",
       "      <td>2.797</td>\n",
       "      <td>0</td>\n",
       "      <td>NaN</td>\n",
       "      <td>NaN</td>\n",
       "      <td>NaN</td>\n",
       "      <td>0.028665</td>\n",
       "      <td>0.04813</td>\n",
       "      <td>0.048112</td>\n",
       "    </tr>\n",
       "    <tr>\n",
       "      <th>2018-01-01 00:03:00</th>\n",
       "      <td>13.52</td>\n",
       "      <td>-0.058</td>\n",
       "      <td>162</td>\n",
       "      <td>178</td>\n",
       "      <td>187</td>\n",
       "      <td>0.6</td>\n",
       "      <td>0.7</td>\n",
       "      <td>0.8</td>\n",
       "      <td>0.5</td>\n",
       "      <td>88.5</td>\n",
       "      <td>...</td>\n",
       "      <td>-1.874</td>\n",
       "      <td>17.930</td>\n",
       "      <td>2.139</td>\n",
       "      <td>0</td>\n",
       "      <td>NaN</td>\n",
       "      <td>NaN</td>\n",
       "      <td>NaN</td>\n",
       "      <td>0.028665</td>\n",
       "      <td>0.04813</td>\n",
       "      <td>0.048112</td>\n",
       "    </tr>\n",
       "    <tr>\n",
       "      <th>2018-01-01 00:04:00</th>\n",
       "      <td>13.58</td>\n",
       "      <td>-0.053</td>\n",
       "      <td>172</td>\n",
       "      <td>180</td>\n",
       "      <td>188</td>\n",
       "      <td>0.7</td>\n",
       "      <td>0.9</td>\n",
       "      <td>1.1</td>\n",
       "      <td>0.5</td>\n",
       "      <td>88.8</td>\n",
       "      <td>...</td>\n",
       "      <td>-1.741</td>\n",
       "      <td>17.440</td>\n",
       "      <td>18.590</td>\n",
       "      <td>0</td>\n",
       "      <td>NaN</td>\n",
       "      <td>NaN</td>\n",
       "      <td>NaN</td>\n",
       "      <td>0.028665</td>\n",
       "      <td>0.04813</td>\n",
       "      <td>0.048112</td>\n",
       "    </tr>\n",
       "  </tbody>\n",
       "</table>\n",
       "<p>5 rows × 83 columns</p>\n",
       "</div>"
      ],
      "text/plain": [
       "                     BattV_Avg  PTemp_C_Avg  Wdmin_Min  Wdavg  Wdmax_Max  \\\n",
       "TIMESTAMP                                                                  \n",
       "2018-01-01 00:00:00      13.60       -0.053        180    199        211   \n",
       "2018-01-01 00:01:00      13.33       -0.053        136    150        167   \n",
       "2018-01-01 00:02:00      13.33       -0.056        156    166        183   \n",
       "2018-01-01 00:03:00      13.52       -0.058        162    178        187   \n",
       "2018-01-01 00:04:00      13.58       -0.053        172    180        188   \n",
       "\n",
       "                     Wsmin_Min  Wsavg_Avg  Wsmax_Max  airtemp_Avg  \\\n",
       "TIMESTAMP                                                           \n",
       "2018-01-01 00:00:00        0.6        0.8        1.0          0.6   \n",
       "2018-01-01 00:01:00        0.3        0.5        0.7          0.5   \n",
       "2018-01-01 00:02:00        0.5        0.7        0.8          0.5   \n",
       "2018-01-01 00:03:00        0.6        0.7        0.8          0.5   \n",
       "2018-01-01 00:04:00        0.7        0.9        1.1          0.5   \n",
       "\n",
       "                     relhumidity_Avg  ...  IR_TempC_Avg  Total_Avg  \\\n",
       "TIMESTAMP                             ...                            \n",
       "2018-01-01 00:00:00             89.1  ...        -1.930     17.770   \n",
       "2018-01-01 00:01:00             88.5  ...        -1.972      0.987   \n",
       "2018-01-01 00:02:00             88.3  ...        -1.902      1.645   \n",
       "2018-01-01 00:03:00             88.5  ...        -1.874     17.930   \n",
       "2018-01-01 00:04:00             88.8  ...        -1.741     17.440   \n",
       "\n",
       "                     Diffuse_Avg  Sun  H_Flux_sc_9_Ost_Avg  \\\n",
       "TIMESTAMP                                                    \n",
       "2018-01-01 00:00:00       18.430    0            -11.27593   \n",
       "2018-01-01 00:01:00        1.810    0            -11.27593   \n",
       "2018-01-01 00:02:00        2.797    0                  NaN   \n",
       "2018-01-01 00:03:00        2.139    0                  NaN   \n",
       "2018-01-01 00:04:00       18.590    0                  NaN   \n",
       "\n",
       "                     H_Flux_sc_8_fernerOst_Avg  H_Flux_sc_8_Mitte_Avg  \\\n",
       "TIMESTAMP                                                               \n",
       "2018-01-01 00:00:00                  -10.07353              -9.107799   \n",
       "2018-01-01 00:01:00                  -10.03892              -9.107799   \n",
       "2018-01-01 00:02:00                        NaN                    NaN   \n",
       "2018-01-01 00:03:00                        NaN                    NaN   \n",
       "2018-01-01 00:04:00                        NaN                    NaN   \n",
       "\n",
       "                     shf_cal(1)  shf_cal(2)  shf_cal(3)  \n",
       "TIMESTAMP                                                \n",
       "2018-01-01 00:00:00    0.028665     0.04813    0.048112  \n",
       "2018-01-01 00:01:00    0.028665     0.04813    0.048112  \n",
       "2018-01-01 00:02:00    0.028665     0.04813    0.048112  \n",
       "2018-01-01 00:03:00    0.028665     0.04813    0.048112  \n",
       "2018-01-01 00:04:00    0.028665     0.04813    0.048112  \n",
       "\n",
       "[5 rows x 83 columns]"
      ]
     },
     "execution_count": 78,
     "metadata": {},
     "output_type": "execute_result"
    }
   ],
   "source": [
    "batch = context.get_batch(data_asset_name, expectation_suite_name, batch_kwargs)\n",
    "batch.head()"
   ]
  },
  {
   "cell_type": "code",
   "execution_count": null,
   "metadata": {},
   "outputs": [],
   "source": []
  },
  {
   "cell_type": "markdown",
   "metadata": {},
   "source": [
    "#### Optionally, customize and review batch options\n",
    "\n",
    "`BatchKwargs` are extremely flexible - to learn more [read the tutorial](https://docs.greatexpectations.io/en/latest/tutorials/create_expectations.html?utm_source=notebook&utm_medium=create_expectations#load-a-batch-of-data-to-create-expectations)\n",
    "\n",
    "Here are the batch kwargs used to load your batch"
   ]
  },
  {
   "cell_type": "code",
   "execution_count": 79,
   "metadata": {},
   "outputs": [],
   "source": [
    "#batch.batch_kwargs"
   ]
  },
  {
   "cell_type": "code",
   "execution_count": 80,
   "metadata": {},
   "outputs": [
    {
     "data": {
      "text/plain": [
       "{'timestamp': 1575535624.957027,\n",
       " 'fingerprint': '9b28f421378c31ccd52dfe0780a5bd9d'}"
      ]
     },
     "execution_count": 80,
     "metadata": {},
     "output_type": "execute_result"
    }
   ],
   "source": [
    "# The datasource can add and store additional identifying information to ensure you can track a batch through\n",
    "# your pipeline\n",
    "batch.batch_id"
   ]
  },
  {
   "cell_type": "markdown",
   "metadata": {},
   "source": [
    "## 6. Author Expectations\n",
    "\n",
    "With a batch, you can add expectations by calling specific expectation methods. They all begin with `.expect_` which makes autocompleting easy.\n",
    "\n",
    "See available expectations in the [expectation glossary](https://docs.greatexpectations.io/en/latest/glossary.html?utm_source=notebook&utm_medium=create_expectations).\n",
    "You can also see available expectations by hovering over data elements in the HTML page generated by profiling your dataset.\n",
    "\n",
    "Below is an example expectation that checks if the values in the batch's first column are null.\n",
    "\n",
    "[Read more in the tutorial](https://docs.greatexpectations.io/en/latest/tutorials/create_expectations.html?utm_source=notebook&utm_medium=create_expectations#author-expectations)"
   ]
  },
  {
   "cell_type": "code",
   "execution_count": 81,
   "metadata": {},
   "outputs": [
    {
     "data": {
      "text/plain": [
       "{'success': True,\n",
       " 'result': {'element_count': 1440,\n",
       "  'unexpected_count': 0,\n",
       "  'unexpected_percent': 0.0,\n",
       "  'partial_unexpected_list': []}}"
      ]
     },
     "execution_count": 81,
     "metadata": {},
     "output_type": "execute_result"
    }
   ],
   "source": [
    "column_name = batch.get_table_columns()[0]\n",
    "batch.expect_column_values_to_not_be_null(column_name)"
   ]
  },
  {
   "cell_type": "markdown",
   "metadata": {},
   "source": [
    "# Some experiments"
   ]
  },
  {
   "cell_type": "code",
   "execution_count": 82,
   "metadata": {},
   "outputs": [
    {
     "data": {
      "text/plain": [
       "{'success': True,\n",
       " 'result': {'element_count': 1440,\n",
       "  'unexpected_count': 0,\n",
       "  'unexpected_percent': 0.0,\n",
       "  'partial_unexpected_list': []}}"
      ]
     },
     "execution_count": 82,
     "metadata": {},
     "output_type": "execute_result"
    }
   ],
   "source": [
    "column_name = 'PTemp_C_Avg'\n",
    "batch.expect_column_mean_to_be_between(column_name, min_value=-20, max_value=40)\n",
    "batch.expect_column_values_to_not_be_null(column_name)"
   ]
  },
  {
   "cell_type": "markdown",
   "metadata": {},
   "source": [
    "Add more expectations here. **Hint** start with `batch.expect_` and hit tab for Jupyter's autocomplete to see all the expectations!"
   ]
  },
  {
   "cell_type": "code",
   "execution_count": 83,
   "metadata": {},
   "outputs": [
    {
     "data": {
      "text/plain": [
       "{'success': True,\n",
       " 'result': {'observed_value': 0.0,\n",
       "  'element_count': 1440,\n",
       "  'missing_count': 0,\n",
       "  'missing_percent': 0.0}}"
      ]
     },
     "execution_count": 83,
     "metadata": {},
     "output_type": "execute_result"
    }
   ],
   "source": [
    "batch.expect_column_min_to_be_between('Ramount', 0, 10)"
   ]
  },
  {
   "cell_type": "code",
   "execution_count": 84,
   "metadata": {},
   "outputs": [
    {
     "data": {
      "text/html": [
       "<div>\n",
       "<style scoped>\n",
       "    .dataframe tbody tr th:only-of-type {\n",
       "        vertical-align: middle;\n",
       "    }\n",
       "\n",
       "    .dataframe tbody tr th {\n",
       "        vertical-align: top;\n",
       "    }\n",
       "\n",
       "    .dataframe thead th {\n",
       "        text-align: right;\n",
       "    }\n",
       "</style>\n",
       "<table border=\"1\" class=\"dataframe\">\n",
       "  <thead>\n",
       "    <tr style=\"text-align: right;\">\n",
       "      <th></th>\n",
       "      <th>BattV_Avg</th>\n",
       "      <th>PTemp_C_Avg</th>\n",
       "      <th>Wdmin_Min</th>\n",
       "      <th>Wdavg</th>\n",
       "      <th>Wdmax_Max</th>\n",
       "      <th>Wsmin_Min</th>\n",
       "      <th>Wsavg_Avg</th>\n",
       "      <th>Wsmax_Max</th>\n",
       "      <th>airtemp_Avg</th>\n",
       "      <th>relhumidity_Avg</th>\n",
       "      <th>...</th>\n",
       "      <th>IR_TempC_Avg</th>\n",
       "      <th>Total_Avg</th>\n",
       "      <th>Diffuse_Avg</th>\n",
       "      <th>Sun</th>\n",
       "      <th>H_Flux_sc_9_Ost_Avg</th>\n",
       "      <th>H_Flux_sc_8_fernerOst_Avg</th>\n",
       "      <th>H_Flux_sc_8_Mitte_Avg</th>\n",
       "      <th>shf_cal(1)</th>\n",
       "      <th>shf_cal(2)</th>\n",
       "      <th>shf_cal(3)</th>\n",
       "    </tr>\n",
       "    <tr>\n",
       "      <th>TIMESTAMP</th>\n",
       "      <th></th>\n",
       "      <th></th>\n",
       "      <th></th>\n",
       "      <th></th>\n",
       "      <th></th>\n",
       "      <th></th>\n",
       "      <th></th>\n",
       "      <th></th>\n",
       "      <th></th>\n",
       "      <th></th>\n",
       "      <th></th>\n",
       "      <th></th>\n",
       "      <th></th>\n",
       "      <th></th>\n",
       "      <th></th>\n",
       "      <th></th>\n",
       "      <th></th>\n",
       "      <th></th>\n",
       "      <th></th>\n",
       "      <th></th>\n",
       "      <th></th>\n",
       "    </tr>\n",
       "  </thead>\n",
       "  <tbody>\n",
       "    <tr>\n",
       "      <th>2018-01-01 00:00:00</th>\n",
       "      <td>13.60</td>\n",
       "      <td>-0.053</td>\n",
       "      <td>180</td>\n",
       "      <td>199</td>\n",
       "      <td>211</td>\n",
       "      <td>0.6</td>\n",
       "      <td>0.8</td>\n",
       "      <td>1.0</td>\n",
       "      <td>0.6</td>\n",
       "      <td>89.1</td>\n",
       "      <td>...</td>\n",
       "      <td>-1.930</td>\n",
       "      <td>17.770</td>\n",
       "      <td>18.430</td>\n",
       "      <td>0</td>\n",
       "      <td>-11.27593</td>\n",
       "      <td>-10.073530</td>\n",
       "      <td>-9.107799</td>\n",
       "      <td>0.028665</td>\n",
       "      <td>0.04813</td>\n",
       "      <td>0.048112</td>\n",
       "    </tr>\n",
       "    <tr>\n",
       "      <th>2018-01-01 00:01:00</th>\n",
       "      <td>13.33</td>\n",
       "      <td>-0.053</td>\n",
       "      <td>136</td>\n",
       "      <td>150</td>\n",
       "      <td>167</td>\n",
       "      <td>0.3</td>\n",
       "      <td>0.5</td>\n",
       "      <td>0.7</td>\n",
       "      <td>0.5</td>\n",
       "      <td>88.5</td>\n",
       "      <td>...</td>\n",
       "      <td>-1.972</td>\n",
       "      <td>0.987</td>\n",
       "      <td>1.810</td>\n",
       "      <td>0</td>\n",
       "      <td>-11.27593</td>\n",
       "      <td>-10.038920</td>\n",
       "      <td>-9.107799</td>\n",
       "      <td>0.028665</td>\n",
       "      <td>0.04813</td>\n",
       "      <td>0.048112</td>\n",
       "    </tr>\n",
       "    <tr>\n",
       "      <th>2018-01-01 00:02:00</th>\n",
       "      <td>13.33</td>\n",
       "      <td>-0.056</td>\n",
       "      <td>156</td>\n",
       "      <td>166</td>\n",
       "      <td>183</td>\n",
       "      <td>0.5</td>\n",
       "      <td>0.7</td>\n",
       "      <td>0.8</td>\n",
       "      <td>0.5</td>\n",
       "      <td>88.3</td>\n",
       "      <td>...</td>\n",
       "      <td>-1.902</td>\n",
       "      <td>1.645</td>\n",
       "      <td>2.797</td>\n",
       "      <td>0</td>\n",
       "      <td>NaN</td>\n",
       "      <td>NaN</td>\n",
       "      <td>NaN</td>\n",
       "      <td>0.028665</td>\n",
       "      <td>0.04813</td>\n",
       "      <td>0.048112</td>\n",
       "    </tr>\n",
       "    <tr>\n",
       "      <th>2018-01-01 00:03:00</th>\n",
       "      <td>13.52</td>\n",
       "      <td>-0.058</td>\n",
       "      <td>162</td>\n",
       "      <td>178</td>\n",
       "      <td>187</td>\n",
       "      <td>0.6</td>\n",
       "      <td>0.7</td>\n",
       "      <td>0.8</td>\n",
       "      <td>0.5</td>\n",
       "      <td>88.5</td>\n",
       "      <td>...</td>\n",
       "      <td>-1.874</td>\n",
       "      <td>17.930</td>\n",
       "      <td>2.139</td>\n",
       "      <td>0</td>\n",
       "      <td>NaN</td>\n",
       "      <td>NaN</td>\n",
       "      <td>NaN</td>\n",
       "      <td>0.028665</td>\n",
       "      <td>0.04813</td>\n",
       "      <td>0.048112</td>\n",
       "    </tr>\n",
       "    <tr>\n",
       "      <th>2018-01-01 00:04:00</th>\n",
       "      <td>13.58</td>\n",
       "      <td>-0.053</td>\n",
       "      <td>172</td>\n",
       "      <td>180</td>\n",
       "      <td>188</td>\n",
       "      <td>0.7</td>\n",
       "      <td>0.9</td>\n",
       "      <td>1.1</td>\n",
       "      <td>0.5</td>\n",
       "      <td>88.8</td>\n",
       "      <td>...</td>\n",
       "      <td>-1.741</td>\n",
       "      <td>17.440</td>\n",
       "      <td>18.590</td>\n",
       "      <td>0</td>\n",
       "      <td>NaN</td>\n",
       "      <td>NaN</td>\n",
       "      <td>NaN</td>\n",
       "      <td>0.028665</td>\n",
       "      <td>0.04813</td>\n",
       "      <td>0.048112</td>\n",
       "    </tr>\n",
       "    <tr>\n",
       "      <th>...</th>\n",
       "      <td>...</td>\n",
       "      <td>...</td>\n",
       "      <td>...</td>\n",
       "      <td>...</td>\n",
       "      <td>...</td>\n",
       "      <td>...</td>\n",
       "      <td>...</td>\n",
       "      <td>...</td>\n",
       "      <td>...</td>\n",
       "      <td>...</td>\n",
       "      <td>...</td>\n",
       "      <td>...</td>\n",
       "      <td>...</td>\n",
       "      <td>...</td>\n",
       "      <td>...</td>\n",
       "      <td>...</td>\n",
       "      <td>...</td>\n",
       "      <td>...</td>\n",
       "      <td>...</td>\n",
       "      <td>...</td>\n",
       "      <td>...</td>\n",
       "    </tr>\n",
       "    <tr>\n",
       "      <th>2018-01-01 23:55:00</th>\n",
       "      <td>13.60</td>\n",
       "      <td>4.865</td>\n",
       "      <td>249</td>\n",
       "      <td>259</td>\n",
       "      <td>266</td>\n",
       "      <td>4.1</td>\n",
       "      <td>4.9</td>\n",
       "      <td>5.5</td>\n",
       "      <td>5.9</td>\n",
       "      <td>71.2</td>\n",
       "      <td>...</td>\n",
       "      <td>3.787</td>\n",
       "      <td>0.493</td>\n",
       "      <td>1.480</td>\n",
       "      <td>0</td>\n",
       "      <td>91.05236</td>\n",
       "      <td>-9.793701</td>\n",
       "      <td>-9.567810</td>\n",
       "      <td>0.028665</td>\n",
       "      <td>0.04813</td>\n",
       "      <td>0.048396</td>\n",
       "    </tr>\n",
       "    <tr>\n",
       "      <th>2018-01-01 23:56:00</th>\n",
       "      <td>13.58</td>\n",
       "      <td>4.872</td>\n",
       "      <td>207</td>\n",
       "      <td>231</td>\n",
       "      <td>253</td>\n",
       "      <td>5.2</td>\n",
       "      <td>6.2</td>\n",
       "      <td>7.3</td>\n",
       "      <td>5.9</td>\n",
       "      <td>71.0</td>\n",
       "      <td>...</td>\n",
       "      <td>3.816</td>\n",
       "      <td>0.658</td>\n",
       "      <td>1.480</td>\n",
       "      <td>0</td>\n",
       "      <td>87.67697</td>\n",
       "      <td>-9.516279</td>\n",
       "      <td>-9.463995</td>\n",
       "      <td>0.028665</td>\n",
       "      <td>0.04813</td>\n",
       "      <td>0.048396</td>\n",
       "    </tr>\n",
       "    <tr>\n",
       "      <th>2018-01-01 23:57:00</th>\n",
       "      <td>13.60</td>\n",
       "      <td>4.880</td>\n",
       "      <td>236</td>\n",
       "      <td>245</td>\n",
       "      <td>255</td>\n",
       "      <td>4.3</td>\n",
       "      <td>5.5</td>\n",
       "      <td>6.7</td>\n",
       "      <td>5.9</td>\n",
       "      <td>70.8</td>\n",
       "      <td>...</td>\n",
       "      <td>3.709</td>\n",
       "      <td>0.493</td>\n",
       "      <td>1.480</td>\n",
       "      <td>0</td>\n",
       "      <td>94.70739</td>\n",
       "      <td>-9.827722</td>\n",
       "      <td>-9.670483</td>\n",
       "      <td>0.028665</td>\n",
       "      <td>0.04813</td>\n",
       "      <td>0.048396</td>\n",
       "    </tr>\n",
       "    <tr>\n",
       "      <th>2018-01-01 23:58:00</th>\n",
       "      <td>13.58</td>\n",
       "      <td>4.888</td>\n",
       "      <td>193</td>\n",
       "      <td>205</td>\n",
       "      <td>213</td>\n",
       "      <td>5.3</td>\n",
       "      <td>6.2</td>\n",
       "      <td>6.9</td>\n",
       "      <td>5.9</td>\n",
       "      <td>71.1</td>\n",
       "      <td>...</td>\n",
       "      <td>3.819</td>\n",
       "      <td>19.570</td>\n",
       "      <td>19.740</td>\n",
       "      <td>0</td>\n",
       "      <td>99.94019</td>\n",
       "      <td>-9.724253</td>\n",
       "      <td>-9.636411</td>\n",
       "      <td>0.028665</td>\n",
       "      <td>0.04813</td>\n",
       "      <td>0.048396</td>\n",
       "    </tr>\n",
       "    <tr>\n",
       "      <th>2018-01-01 23:59:00</th>\n",
       "      <td>13.59</td>\n",
       "      <td>4.896</td>\n",
       "      <td>170</td>\n",
       "      <td>192</td>\n",
       "      <td>225</td>\n",
       "      <td>5.4</td>\n",
       "      <td>6.8</td>\n",
       "      <td>8.6</td>\n",
       "      <td>5.9</td>\n",
       "      <td>70.7</td>\n",
       "      <td>...</td>\n",
       "      <td>3.862</td>\n",
       "      <td>0.658</td>\n",
       "      <td>1.316</td>\n",
       "      <td>0</td>\n",
       "      <td>98.37457</td>\n",
       "      <td>-9.655356</td>\n",
       "      <td>-9.533475</td>\n",
       "      <td>0.028665</td>\n",
       "      <td>0.04813</td>\n",
       "      <td>0.048396</td>\n",
       "    </tr>\n",
       "  </tbody>\n",
       "</table>\n",
       "<p>1440 rows × 83 columns</p>\n",
       "</div>"
      ],
      "text/plain": [
       "                     BattV_Avg  PTemp_C_Avg  Wdmin_Min  Wdavg  Wdmax_Max  \\\n",
       "TIMESTAMP                                                                  \n",
       "2018-01-01 00:00:00      13.60       -0.053        180    199        211   \n",
       "2018-01-01 00:01:00      13.33       -0.053        136    150        167   \n",
       "2018-01-01 00:02:00      13.33       -0.056        156    166        183   \n",
       "2018-01-01 00:03:00      13.52       -0.058        162    178        187   \n",
       "2018-01-01 00:04:00      13.58       -0.053        172    180        188   \n",
       "...                        ...          ...        ...    ...        ...   \n",
       "2018-01-01 23:55:00      13.60        4.865        249    259        266   \n",
       "2018-01-01 23:56:00      13.58        4.872        207    231        253   \n",
       "2018-01-01 23:57:00      13.60        4.880        236    245        255   \n",
       "2018-01-01 23:58:00      13.58        4.888        193    205        213   \n",
       "2018-01-01 23:59:00      13.59        4.896        170    192        225   \n",
       "\n",
       "                     Wsmin_Min  Wsavg_Avg  Wsmax_Max  airtemp_Avg  \\\n",
       "TIMESTAMP                                                           \n",
       "2018-01-01 00:00:00        0.6        0.8        1.0          0.6   \n",
       "2018-01-01 00:01:00        0.3        0.5        0.7          0.5   \n",
       "2018-01-01 00:02:00        0.5        0.7        0.8          0.5   \n",
       "2018-01-01 00:03:00        0.6        0.7        0.8          0.5   \n",
       "2018-01-01 00:04:00        0.7        0.9        1.1          0.5   \n",
       "...                        ...        ...        ...          ...   \n",
       "2018-01-01 23:55:00        4.1        4.9        5.5          5.9   \n",
       "2018-01-01 23:56:00        5.2        6.2        7.3          5.9   \n",
       "2018-01-01 23:57:00        4.3        5.5        6.7          5.9   \n",
       "2018-01-01 23:58:00        5.3        6.2        6.9          5.9   \n",
       "2018-01-01 23:59:00        5.4        6.8        8.6          5.9   \n",
       "\n",
       "                     relhumidity_Avg  ...  IR_TempC_Avg  Total_Avg  \\\n",
       "TIMESTAMP                             ...                            \n",
       "2018-01-01 00:00:00             89.1  ...        -1.930     17.770   \n",
       "2018-01-01 00:01:00             88.5  ...        -1.972      0.987   \n",
       "2018-01-01 00:02:00             88.3  ...        -1.902      1.645   \n",
       "2018-01-01 00:03:00             88.5  ...        -1.874     17.930   \n",
       "2018-01-01 00:04:00             88.8  ...        -1.741     17.440   \n",
       "...                              ...  ...           ...        ...   \n",
       "2018-01-01 23:55:00             71.2  ...         3.787      0.493   \n",
       "2018-01-01 23:56:00             71.0  ...         3.816      0.658   \n",
       "2018-01-01 23:57:00             70.8  ...         3.709      0.493   \n",
       "2018-01-01 23:58:00             71.1  ...         3.819     19.570   \n",
       "2018-01-01 23:59:00             70.7  ...         3.862      0.658   \n",
       "\n",
       "                     Diffuse_Avg  Sun  H_Flux_sc_9_Ost_Avg  \\\n",
       "TIMESTAMP                                                    \n",
       "2018-01-01 00:00:00       18.430    0            -11.27593   \n",
       "2018-01-01 00:01:00        1.810    0            -11.27593   \n",
       "2018-01-01 00:02:00        2.797    0                  NaN   \n",
       "2018-01-01 00:03:00        2.139    0                  NaN   \n",
       "2018-01-01 00:04:00       18.590    0                  NaN   \n",
       "...                          ...  ...                  ...   \n",
       "2018-01-01 23:55:00        1.480    0             91.05236   \n",
       "2018-01-01 23:56:00        1.480    0             87.67697   \n",
       "2018-01-01 23:57:00        1.480    0             94.70739   \n",
       "2018-01-01 23:58:00       19.740    0             99.94019   \n",
       "2018-01-01 23:59:00        1.316    0             98.37457   \n",
       "\n",
       "                     H_Flux_sc_8_fernerOst_Avg  H_Flux_sc_8_Mitte_Avg  \\\n",
       "TIMESTAMP                                                               \n",
       "2018-01-01 00:00:00                 -10.073530              -9.107799   \n",
       "2018-01-01 00:01:00                 -10.038920              -9.107799   \n",
       "2018-01-01 00:02:00                        NaN                    NaN   \n",
       "2018-01-01 00:03:00                        NaN                    NaN   \n",
       "2018-01-01 00:04:00                        NaN                    NaN   \n",
       "...                                        ...                    ...   \n",
       "2018-01-01 23:55:00                  -9.793701              -9.567810   \n",
       "2018-01-01 23:56:00                  -9.516279              -9.463995   \n",
       "2018-01-01 23:57:00                  -9.827722              -9.670483   \n",
       "2018-01-01 23:58:00                  -9.724253              -9.636411   \n",
       "2018-01-01 23:59:00                  -9.655356              -9.533475   \n",
       "\n",
       "                     shf_cal(1)  shf_cal(2)  shf_cal(3)  \n",
       "TIMESTAMP                                                \n",
       "2018-01-01 00:00:00    0.028665     0.04813    0.048112  \n",
       "2018-01-01 00:01:00    0.028665     0.04813    0.048112  \n",
       "2018-01-01 00:02:00    0.028665     0.04813    0.048112  \n",
       "2018-01-01 00:03:00    0.028665     0.04813    0.048112  \n",
       "2018-01-01 00:04:00    0.028665     0.04813    0.048112  \n",
       "...                         ...         ...         ...  \n",
       "2018-01-01 23:55:00    0.028665     0.04813    0.048396  \n",
       "2018-01-01 23:56:00    0.028665     0.04813    0.048396  \n",
       "2018-01-01 23:57:00    0.028665     0.04813    0.048396  \n",
       "2018-01-01 23:58:00    0.028665     0.04813    0.048396  \n",
       "2018-01-01 23:59:00    0.028665     0.04813    0.048396  \n",
       "\n",
       "[1440 rows x 83 columns]"
      ]
     },
     "execution_count": 84,
     "metadata": {},
     "output_type": "execute_result"
    }
   ],
   "source": [
    "batch.ex"
   ]
  },
  {
   "cell_type": "code",
   "execution_count": 59,
   "metadata": {},
   "outputs": [
    {
     "data": {
      "text/plain": [
       "{'success': True,\n",
       " 'result': {'element_count': 1440,\n",
       "  'unexpected_count': 0,\n",
       "  'unexpected_percent': 0.0,\n",
       "  'partial_unexpected_list': []}}"
      ]
     },
     "execution_count": 59,
     "metadata": {},
     "output_type": "execute_result"
    }
   ],
   "source": [
    "batch.expect_column_values_to_not_be_null('Ramount')"
   ]
  },
  {
   "cell_type": "code",
   "execution_count": 60,
   "metadata": {},
   "outputs": [
    {
     "data": {
      "text/plain": [
       "{'success': True,\n",
       " 'result': {'element_count': 1440,\n",
       "  'unexpected_count': 0,\n",
       "  'unexpected_percent': 0.0,\n",
       "  'partial_unexpected_list': []}}"
      ]
     },
     "execution_count": 60,
     "metadata": {},
     "output_type": "execute_result"
    }
   ],
   "source": [
    "batch.expect_column_values_to_not_be_null('Rduration_Avg')"
   ]
  },
  {
   "cell_type": "code",
   "execution_count": null,
   "metadata": {},
   "outputs": [],
   "source": []
  },
  {
   "cell_type": "markdown",
   "metadata": {},
   "source": [
    "## 7. Review and save your Expectations\n",
    "\n",
    "Expectations that are `True` on this data batch are added automatically. Let's view all the expectations you created in machine-readable JSON."
   ]
  },
  {
   "cell_type": "code",
   "execution_count": 61,
   "metadata": {},
   "outputs": [
    {
     "name": "stdout",
     "output_type": "stream",
     "text": [
      "2019-12-05T09:27:12+0100 - INFO - \t6 expectation(s) included in expectation_suite. result_format settings filtered.\n"
     ]
    },
    {
     "data": {
      "text/plain": [
       "{'data_asset_name': 'tereno_fendt/s3/data_2018',\n",
       " 'expectation_suite_name': 'basic',\n",
       " 'meta': {'great_expectations.__version__': '0.8.6'},\n",
       " 'expectations': [{'expectation_type': 'expect_column_values_to_not_be_null',\n",
       "   'kwargs': {'column': 'BattV_Avg'}},\n",
       "  {'expectation_type': 'expect_column_mean_to_be_between',\n",
       "   'kwargs': {'column': 'PTemp_C_Avg', 'min_value': -20, 'max_value': 40}},\n",
       "  {'expectation_type': 'expect_column_values_to_not_be_null',\n",
       "   'kwargs': {'column': 'PTemp_C_Avg'}},\n",
       "  {'expectation_type': 'expect_column_min_to_be_between',\n",
       "   'kwargs': {'column': 'Ramount', 'min_value': 0, 'max_value': 10}},\n",
       "  {'expectation_type': 'expect_column_values_to_not_be_null',\n",
       "   'kwargs': {'column': 'Ramount'}},\n",
       "  {'expectation_type': 'expect_column_values_to_not_be_null',\n",
       "   'kwargs': {'column': 'Rduration_Avg'}}],\n",
       " 'data_asset_type': 'Dataset'}"
      ]
     },
     "execution_count": 61,
     "metadata": {},
     "output_type": "execute_result"
    }
   ],
   "source": [
    "batch.get_expectation_suite()"
   ]
  },
  {
   "cell_type": "markdown",
   "metadata": {},
   "source": [
    "    \n",
    "    \n",
    "If you decide not to save some expectations that you created, use [remove_expectaton method](https://docs.greatexpectations.io/en/latest/module_docs/data_asset_module.html?highlight=remove_expectation&utm_source=notebook&utm_medium=create_expectations#great_expectations.data_asset.data_asset.DataAsset.remove_expectation). You can also choose not to filter expectations that were `False` on this batch.\n",
    "\n",
    "\n",
    "The following method will save the expectation suite as a JSON file in the `great_expectations/expectations` directory of your project:\n",
    "    "
   ]
  },
  {
   "cell_type": "code",
   "execution_count": 62,
   "metadata": {},
   "outputs": [
    {
     "name": "stdout",
     "output_type": "stream",
     "text": [
      "2019-12-05T09:27:55+0100 - INFO - \t6 expectation(s) included in expectation_suite. result_format settings filtered.\n"
     ]
    }
   ],
   "source": [
    "batch.save_expectation_suite()"
   ]
  },
  {
   "cell_type": "markdown",
   "metadata": {},
   "source": [
    "## 8. View the Expectations in Data Docs\n",
    "\n",
    "Let's now build and look at your Data Docs. These will now include an **Expectation Suite Overview** built from the expectations you just created that helps you communicate about your data with both machines and humans."
   ]
  },
  {
   "cell_type": "code",
   "execution_count": 54,
   "metadata": {},
   "outputs": [
    {
     "name": "stdout",
     "output_type": "stream",
     "text": [
      "2019-11-28T09:33:43+0100 - WARNING - Instantiating class from config without an explicit class_name is dangerous. Consider adding an explicit class_name for None\n"
     ]
    },
    {
     "data": {
      "text/plain": [
       "{'local_site': '/Users/werner-ch/Documents/Repos/ge-example/great_expectations/uncommitted/data_docs/local_site/index.html'}"
      ]
     },
     "execution_count": 54,
     "metadata": {},
     "output_type": "execute_result"
    }
   ],
   "source": [
    "context.build_data_docs()"
   ]
  },
  {
   "cell_type": "code",
   "execution_count": 55,
   "metadata": {},
   "outputs": [],
   "source": [
    "context.open_data_docs()"
   ]
  },
  {
   "cell_type": "markdown",
   "metadata": {},
   "source": [
    "## Congratulations! You created and saved Expectations\n",
    "\n",
    "## Next steps:\n",
    "\n",
    "### 1. Play with Validation\n",
    "\n",
    "Validation is the process of checking if new batches of this data meet to your expectations before they are processed by your pipeline. Go to [validation_playground.ipynb](validation_playground.ipynb) to see how!\n",
    "\n",
    "\n",
    "### 2. Explore the documentation & community\n",
    "\n",
    "You are now among the elite data professionals who know how to build robust descriptions of your data and protections for pipelines and machine learning models. Join the [**Great Expectations Slack Channel**](https://greatexpectations.io/slack) to see how others are wielding these superpowers."
   ]
  },
  {
   "cell_type": "code",
   "execution_count": null,
   "metadata": {},
   "outputs": [],
   "source": []
  },
  {
   "cell_type": "code",
   "execution_count": null,
   "metadata": {},
   "outputs": [],
   "source": []
  }
 ],
 "metadata": {
  "kernelspec": {
   "display_name": "ge-example",
   "language": "python",
   "name": "ge-example"
  },
  "language_info": {
   "codemirror_mode": {
    "name": "ipython",
    "version": 3
   },
   "file_extension": ".py",
   "mimetype": "text/x-python",
   "name": "python",
   "nbconvert_exporter": "python",
   "pygments_lexer": "ipython3",
   "version": "3.8.0"
  },
  "pycharm": {
   "stem_cell": {
    "cell_type": "raw",
    "metadata": {
     "collapsed": false
    },
    "source": []
   }
  }
 },
 "nbformat": 4,
 "nbformat_minor": 4
}

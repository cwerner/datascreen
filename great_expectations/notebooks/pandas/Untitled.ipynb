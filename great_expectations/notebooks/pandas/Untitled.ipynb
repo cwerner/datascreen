{
 "cells": [
  {
   "cell_type": "code",
   "execution_count": null,
   "metadata": {},
   "outputs": [],
   "source": [
    "{'blocks': [{'type': 'section', 'text': {'type': 'mrkdwn', \n",
    "                                         'text': '*Batch Validation Status*: Success :tada:\\n*Data Asset:* `tereno_fendt/s3/data_2018`\\n*Expectation suite name*: `basic`\\n*Run ID*: `2019-11-28T084656.492846Z`\\n*Timestamp*: `11/28/19 09:47:04`\\n*Summary*: *6* of *6* expectations were met'}},\n",
    "            {'type': 'divider'}, {'type': 'context', 'elements': [{'text': 'Learn how to review validation results: https://docs.greatexpectations.io/en/latest/features/validation.html#reviewing-validation-results'}]}], \n",
    "                                         'text': 'tereno_fendt/s3/data_2018: Success :tada:'}"
   ]
  },
  {
   "cell_type": "code",
   "execution_count": null,
   "metadata": {},
   "outputs": [],
   "source": [
    "headers = {}"
   ]
  },
  {
   "cell_type": "code",
   "execution_count": 2,
   "metadata": {},
   "outputs": [],
   "source": [
    "import requests\n",
    "import json"
   ]
  },
  {
   "cell_type": "code",
   "execution_count": 8,
   "metadata": {},
   "outputs": [],
   "source": [
    "d={'blocks': [{'type': 'section', 'text': {'type': 'mrkdwn', 'text': '*Batch Validation Status*: Success :tada:\\n*Data Asset:* `tereno_fendt/s3/data_2018`\\n*Expectation suite name*: `basic`\\n*Run ID*: `2019-11-28T084656.492846Z`\\n*Timestamp*: `11/28/19 09:47:04`\\n*Summary*: *6* of *6* expectations were met'}}, {'type': 'divider'}, {'type': 'context', 'elements': [{'type': 'mrkdwn', 'text': 'Learn how to review validation results: https://docs.greatexpectations.io/en/latest/features/validation.html#reviewing-validation-results'}]}], 'text': 'tereno_fendt/s3/data_2018: Success :tada:'}"
   ]
  },
  {
   "cell_type": "code",
   "execution_count": 11,
   "metadata": {},
   "outputs": [
    {
     "name": "stdout",
     "output_type": "stream",
     "text": [
      "{\n",
      "    \"blocks\": [\n",
      "        {\n",
      "            \"text\": {\n",
      "                \"text\": \"*Batch Validation Status*: Success :tada:\\n*Data Asset:* `tereno_fendt/s3/data_2018`\\n*Expectation suite name*: `basic`\\n*Run ID*: `2019-11-28T084656.492846Z`\\n*Timestamp*: `11/28/19 09:47:04`\\n*Summary*: *6* of *6* expectations were met\",\n",
      "                \"type\": \"mrkdwn\"\n",
      "            },\n",
      "            \"type\": \"section\"\n",
      "        },\n",
      "        {\n",
      "            \"type\": \"divider\"\n",
      "        },\n",
      "        {\n",
      "            \"elements\": [\n",
      "                {\n",
      "                    \"text\": \"Learn how to review validation results: https://docs.greatexpectations.io/en/latest/features/validation.html#reviewing-validation-results\",\n",
      "                    \"type\": \"mrkdwn\"\n",
      "                }\n",
      "            ],\n",
      "            \"type\": \"context\"\n",
      "        }\n",
      "    ],\n",
      "    \"text\": \"tereno_fendt/s3/data_2018: Success :tada:\"\n",
      "}\n"
     ]
    }
   ],
   "source": [
    "print(json.dumps(d, sort_keys=True, indent=4))"
   ]
  },
  {
   "cell_type": "code",
   "execution_count": 27,
   "metadata": {},
   "outputs": [],
   "source": [
    "payload={\n",
    "#  \"channel\": \"data-ingest\",\n",
    "#  \"username\": \"test-bot\",\n",
    "#  \"icon_url\": \"https://www.mattermost.org/wp-content/uploads/2016/04/icon.png\",\n",
    "  \"text\": \"\"\"#### Test results for July 27th, 2017\\n<!channel> please review failed tests.\"\"\" #\\n\n",
    "#  | Component  | Tests Run   | Tests Failed                                   |\\n\n",
    "#  |:-----------|:-----------:|:-----------------------------------------------|\\n\n",
    "#  | Server     | 948         | :white_check_mark: 0                           |\\n\n",
    "#  | Web Client | 123         | :warning: 2 [(see details)](http://linktologs) |\\n\n",
    "#  | iOS Client | 78          | :warning: 3 [(see details)](http://linktologs) |\\n\n",
    "#  \"\"\"\n",
    "  }"
   ]
  },
  {
   "cell_type": "code",
   "execution_count": 28,
   "metadata": {},
   "outputs": [
    {
     "name": "stderr",
     "output_type": "stream",
     "text": [
      "/Users/werner-ch/.pyenv/versions/ge-example/lib/python3.8/site-packages/urllib3/connectionpool.py:997: InsecureRequestWarning: Unverified HTTPS request is being made. Adding certificate verification is strongly advised. See: https://urllib3.readthedocs.io/en/latest/advanced-usage.html#ssl-warnings\n",
      "  warnings.warn(\n"
     ]
    }
   ],
   "source": [
    "r = requests.post('https://mattermost.imk-ifu.kit.edu/hooks/hqfb99thci89zfrf7meen6hbch', \n",
    "                  params=payload,\n",
    "                  verify=False)"
   ]
  },
  {
   "cell_type": "code",
   "execution_count": 29,
   "metadata": {},
   "outputs": [
    {
     "data": {
      "text/plain": [
       "'{\"id\":\"model.incoming_hook.parse_data.app_error\",\"message\":\"Unable to parse incoming data\",\"detailed_error\":\"\",\"request_id\":\"q1xzqwrbhpgp5b4h99sy37twec\",\"status_code\":400}'"
      ]
     },
     "execution_count": 29,
     "metadata": {},
     "output_type": "execute_result"
    }
   ],
   "source": [
    "r.text"
   ]
  },
  {
   "cell_type": "code",
   "execution_count": 43,
   "metadata": {},
   "outputs": [
    {
     "ename": "SyntaxError",
     "evalue": "invalid syntax (<ipython-input-43-7a397044fc7f>, line 11)",
     "output_type": "error",
     "traceback": [
      "\u001b[0;36m  File \u001b[0;32m\"<ipython-input-43-7a397044fc7f>\"\u001b[0;36m, line \u001b[0;32m11\u001b[0m\n\u001b[0;31m    r = requests.post(webhook_url, json=slack_data, headers={'Content-Type': 'application/json'}, verify=False)\u001b[0m\n\u001b[0m    ^\u001b[0m\n\u001b[0;31mSyntaxError\u001b[0m\u001b[0;31m:\u001b[0m invalid syntax\n"
     ]
    }
   ],
   "source": [
    "import json\n",
    "import requests\n",
    "# Set the webhook_url to the one provided by Slack when you create the webhook at https://my.slack.com/services/new/incoming-webhook/\n",
    "webhook_url = 'https://mattermost.imk-ifu.kit.edu/hooks/hqfb99thci89zfrf7meen6hbch'\n",
    "slack_data = {'text': \"Hacking shit together @cwerner :spaghetti:\\n\\n| Component  | Tests Run   | Tests Failed                                   |\\n|:-----------|:-----------:|:-----------------------------------------------|\\n| Server     | 948         | :white_check_mark: 0                           |\\n\"}\n",
    "slack_data = {'text': \"Hacking shit together @cwerner :spaghetti:\\n\\n| Component  | Tests Run   | Tests Failed                                   |\\n|:-----------|:-----------:|:-----------------------------------------------|\\n| Server     | 948         | :white_check_mark: 0                           |\\n\"}\n",
    "\n",
    "\n",
    "\n",
    "r = requests.post(webhook_url, json=slack_data, headers={'Content-Type': 'application/json'}, verify=False)\n",
    "print(r)\n",
    "print(r.text)"
   ]
  },
  {
   "cell_type": "code",
   "execution_count": 41,
   "metadata": {},
   "outputs": [
    {
     "data": {
      "text/plain": [
       "{'text': 'Hacking shit together @cwerner :spaghetti:\\n| Component  | Tests Run   | Tests Failed                                   |\\n|:-----------|:-----------:|:-----------------------------------------------|\\n| Server     | 948         | :white_check_mark: 0                           |\\n'}"
      ]
     },
     "execution_count": 41,
     "metadata": {},
     "output_type": "execute_result"
    }
   ],
   "source": [
    "slack_data"
   ]
  },
  {
   "cell_type": "code",
   "execution_count": null,
   "metadata": {},
   "outputs": [],
   "source": []
  }
 ],
 "metadata": {
  "kernelspec": {
   "display_name": "ge-example",
   "language": "python",
   "name": "ge-example"
  },
  "language_info": {
   "codemirror_mode": {
    "name": "ipython",
    "version": 3
   },
   "file_extension": ".py",
   "mimetype": "text/x-python",
   "name": "python",
   "nbconvert_exporter": "python",
   "pygments_lexer": "ipython3",
   "version": "3.8.0"
  }
 },
 "nbformat": 4,
 "nbformat_minor": 4
}

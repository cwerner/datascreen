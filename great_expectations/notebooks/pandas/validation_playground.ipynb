{
 "cells": [
  {
   "cell_type": "markdown",
   "metadata": {},
   "source": [
    "# Validation Playground\n",
    "\n",
    "**Watch** a [short tutorial video](https://greatexpectations.io/videos/getting_started/integrate_expectations) or **read** [the written tutorial](https://docs.greatexpectations.io/en/latest/tutorials/validate_data.html?utm_source=notebook&utm_medium=validate_data)\n",
    "\n",
    "We'd love it if you **reach out for help on** the [**Great Expectations Slack Channel**](https://greatexpectations.io/slack)"
   ]
  },
  {
   "cell_type": "code",
   "execution_count": 1,
   "metadata": {},
   "outputs": [],
   "source": [
    "%load_ext autoreload\n",
    "%autoreload 2"
   ]
  },
  {
   "cell_type": "code",
   "execution_count": 2,
   "metadata": {},
   "outputs": [],
   "source": [
    "S3_ENDPOINT = \"https://minio.cwerner.ai\"\n",
    "BUCKET_NAME = 'ge-example'"
   ]
  },
  {
   "cell_type": "code",
   "execution_count": 3,
   "metadata": {},
   "outputs": [],
   "source": [
    "# monkey patch boto3\n",
    "import functools\n",
    "import boto3\n",
    "import os\n",
    "boto3.client = functools.partial(boto3.client, endpoint_url=S3_ENDPOINT)\n",
    "boto3.resource = functools.partial(boto3.resource, endpoint_url=S3_ENDPOINT)"
   ]
  },
  {
   "cell_type": "code",
   "execution_count": 4,
   "metadata": {},
   "outputs": [],
   "source": [
    "# minio credentials\n",
    "AWS_ACCESS_KEY_ID = \"ENXJEPJGSyWjaCc63bci\" \n",
    "AWS_SECRET_ACCESS_KEY = \"yT9m0N2VjWGgqkQ51E94EgpcZVyzPJBU\" \n",
    "S3_ENDPOINT = \"https://minio.cwerner.ai\"\n",
    "S3DIRECT_REGION = \"us-east-1\"\n",
    "os.environ['AWS_ACCESS_KEY_ID'] = AWS_ACCESS_KEY_ID\n",
    "os.environ['AWS_SECRET_ACCESS_KEY'] = AWS_SECRET_ACCESS_KEY\n",
    "os.environ['S3DIRECT_REGION'] = S3DIRECT_REGION\n",
    "os.environ['S3_ENDPOINT'] = S3_ENDPOINT"
   ]
  },
  {
   "cell_type": "code",
   "execution_count": null,
   "metadata": {},
   "outputs": [],
   "source": []
  },
  {
   "cell_type": "code",
   "execution_count": null,
   "metadata": {},
   "outputs": [],
   "source": []
  },
  {
   "cell_type": "code",
   "execution_count": 5,
   "metadata": {},
   "outputs": [
    {
     "name": "stdout",
     "output_type": "stream",
     "text": [
      "2019-12-05T09:16:42+0100 - INFO - Great Expectations logging enabled at INFO level by JupyterUX module.\n"
     ]
    }
   ],
   "source": [
    "import json\n",
    "import great_expectations as ge\n",
    "from great_expectations.profile import ColumnsExistProfiler\n",
    "import great_expectations.jupyter_ux\n",
    "from great_expectations.datasource.types import BatchKwargs\n",
    "from datetime import datetime"
   ]
  },
  {
   "cell_type": "markdown",
   "metadata": {},
   "source": [
    "## 1. Get a DataContext\n",
    "This represents your **project** that you just created using `great_expectations init`. [Read more in the tutorial](https://docs.greatexpectations.io/en/latest/tutorials/validate_data.html?utm_source=notebook&utm_medium=validate_data#get-a-datacontext-object)"
   ]
  },
  {
   "cell_type": "code",
   "execution_count": 6,
   "metadata": {},
   "outputs": [
    {
     "name": "stdout",
     "output_type": "stream",
     "text": [
      "2019-12-05T09:16:42+0100 - INFO - Using project config: /Users/werner-ch/Documents/Repos/ge-example/great_expectations/great_expectations.yml\n"
     ]
    }
   ],
   "source": [
    "context = ge.data_context.DataContext()"
   ]
  },
  {
   "cell_type": "markdown",
   "metadata": {},
   "source": [
    "## 2. List the CSVs in your folder\n",
    "\n",
    "The `DataContext` will now introspect your pandas `Datasource` and list the CSVs it finds. [Read more in the tutorial](https://docs.greatexpectations.io/en/latest/tutorials/validate_data.html?utm_source=notebook&utm_medium=validate_data#list-data-assets)"
   ]
  },
  {
   "cell_type": "code",
   "execution_count": 7,
   "metadata": {},
   "outputs": [
    {
     "name": "stdout",
     "output_type": "stream",
     "text": [
      "Inspecting your data sources. This may take a moment...\n"
     ]
    },
    {
     "data": {
      "text/html": [
       "<h2 style='margin: 0'>Datasource: tereno_fendt (PandasDatasource)</h2>generator: s3 (S3Generator)<h3 style='margin: 0.2em 0'>Data Assets Found:</h3>\n",
       "    <style type='text/css'>\n",
       "    ul.data-assets {\n",
       "        margin-top: 0px;\n",
       "    }\n",
       "    ul.data-assets li {\n",
       "        line-height: 1.2em;\n",
       "        list-style-type: circle;\n",
       "    }\n",
       "    ul.data-assets li span.expectation-suite {\n",
       "        background: #ddd;\n",
       "    }\n",
       "    </style>\n",
       "    <ul class='data-assets'><li>data_2018</li><ul><li><span class='expectation-suite'>Expectation Suite</span>: basic</li></ul><li>data_2019</li></ul>"
      ],
      "text/plain": [
       "<IPython.core.display.HTML object>"
      ]
     },
     "metadata": {},
     "output_type": "display_data"
    }
   ],
   "source": [
    "ge.jupyter_ux.list_available_data_asset_names(context)"
   ]
  },
  {
   "cell_type": "markdown",
   "metadata": {},
   "source": [
    "## 3. Pick a csv and the expectation suite\n",
    "\n",
    "Internally, Great Expectations represents csvs and dataframes as `DataAsset`s and uses this notion to link them to `Expectation Suites`. [Read more in the tutorial](https://docs.greatexpectations.io/en/latest/tutorials/validate_data.html?utm_source=notebook&utm_medium=validate_data#pick-a-data-asset-and-expectation-suite)\n"
   ]
  },
  {
   "cell_type": "code",
   "execution_count": 8,
   "metadata": {},
   "outputs": [
    {
     "data": {
      "text/plain": [
       "NormalizedDataAssetName(datasource='tereno_fendt', generator='s3', generator_asset='data_2018')"
      ]
     },
     "execution_count": 8,
     "metadata": {},
     "output_type": "execute_result"
    }
   ],
   "source": [
    "data_asset_name = \"data_2018\" # TODO: replace with your value!\n",
    "normalized_data_asset_name = context.normalize_data_asset_name(data_asset_name)\n",
    "normalized_data_asset_name"
   ]
  },
  {
   "cell_type": "markdown",
   "metadata": {},
   "source": [
    "We recommend naming your first expectation suite for a table `warning`. Later, as you identify some of the expectations that you add to this suite as critical, you can move these expectations into another suite and call it `failure`. [Read more in the tutorial](https://docs.greatexpectations.io/en/latest/getting_started/pipeline_integration.html?utm_source=notebook&utm_medium=integrate_validation#choose-data-asset-and-expectation-suite)"
   ]
  },
  {
   "cell_type": "code",
   "execution_count": 9,
   "metadata": {},
   "outputs": [],
   "source": [
    "expectation_suite_name = \"basic\" # TODO: replace with your value!"
   ]
  },
  {
   "cell_type": "markdown",
   "metadata": {},
   "source": [
    "#### 3.a. If you don't have an expectation suite, let's create a simple one\n",
    "\n",
    "You need expectations to validate your data. Expectations are grouped into Expectation Suites. \n",
    "\n",
    "If you don't have an expectation suite for this data asset, the notebook's next cell will create a suite of very basic expectations, so that you have some expectations to play with. The expectation suite will have `expect_column_to_exist` expectations for each column.\n",
    "\n",
    "If you created an expectation suite for this data asset, you can skip executing the next cell (if you execute it, it will do nothing).\n",
    "\n",
    "To create a more interesting suite, open the [create_expectations.ipynb](create_expectations.ipynb) notebook.\n",
    "\n"
   ]
  },
  {
   "cell_type": "code",
   "execution_count": 10,
   "metadata": {},
   "outputs": [
    {
     "name": "stdout",
     "output_type": "stream",
     "text": [
      "1\n"
     ]
    }
   ],
   "source": [
    "try:\n",
    "    print('1')\n",
    "    context.get_expectation_suite(normalized_data_asset_name, expectation_suite_name)\n",
    "except great_expectations.exceptions.DataContextError:\n",
    "    print('2')\n",
    "    context.create_expectation_suite(data_asset_name=normalized_data_asset_name, expectation_suite_name=expectation_suite_name, overwrite_existing=True);\n",
    "    batch_kwargs = context.yield_batch_kwargs(data_asset_name)\n",
    "    batch = context.get_batch(normalized_data_asset_name, expectation_suite_name, batch_kwargs)\n",
    "    ColumnsExistProfiler().profile(batch)\n",
    "    batch.save_expectation_suite()\n",
    "    expectation_suite = context.get_expectation_suite(normalized_data_asset_name, expectation_suite_name)\n",
    "    context.build_data_docs()\n"
   ]
  },
  {
   "cell_type": "code",
   "execution_count": 31,
   "metadata": {},
   "outputs": [
    {
     "data": {
      "text/plain": [
       "{'data_asset_name': 'tereno_fendt/s3/data_2018',\n",
       " 'expectation_suite_name': 'basic',\n",
       " 'meta': {'great_expectations.__version__': '0.8.6'},\n",
       " 'expectations': [{'expectation_type': 'expect_column_values_to_not_be_null',\n",
       "   'kwargs': {'column': 'BattV_Avg'}},\n",
       "  {'expectation_type': 'expect_column_mean_to_be_between',\n",
       "   'kwargs': {'column': 'PTemp_C_Avg', 'min_value': -20, 'max_value': 40}},\n",
       "  {'expectation_type': 'expect_column_values_to_not_be_null',\n",
       "   'kwargs': {'column': 'PTemp_C_Avg'}},\n",
       "  {'expectation_type': 'expect_column_min_to_be_between',\n",
       "   'kwargs': {'column': 'Ramount', 'min_value': 0, 'max_value': 10}},\n",
       "  {'expectation_type': 'expect_column_values_to_not_be_null',\n",
       "   'kwargs': {'column': 'Ramount'}},\n",
       "  {'expectation_type': 'expect_column_values_to_not_be_null',\n",
       "   'kwargs': {'column': 'Rduration_Avg'}}],\n",
       " 'data_asset_type': 'Dataset'}"
      ]
     },
     "execution_count": 31,
     "metadata": {},
     "output_type": "execute_result"
    }
   ],
   "source": [
    "context.get_expectation_suite(normalized_data_asset_name, \"basic\")"
   ]
  },
  {
   "cell_type": "markdown",
   "metadata": {},
   "source": [
    "## 4. Load a batch of data you want to validate\n",
    "\n",
    "To learn more about `get_batch` with other data types (such as existing pandas dataframes, SQL tables or Spark), see [this tutorial](https://docs.greatexpectations.io/en/latest/tutorials/validate_data.html?utm_source=notebook&utm_medium=validate_data#load-a-batch-of-data-to-validate)\n"
   ]
  },
  {
   "cell_type": "code",
   "execution_count": 32,
   "metadata": {},
   "outputs": [
    {
     "name": "stdout",
     "output_type": "stream",
     "text": [
      "{'s3': 's3a://ge-example/raw/tereno_fendt/2018/Fen_M_18_017.dat', 'reader_options': {'sep': ',', 'header': None, 'index_col': 'TIMESTAMP', 'na_values': 'NAN', 'engine': 'python', 'encoding': 'utf-8', 'names': ['TIMESTAMP', 'BattV_Avg', 'PTemp_C_Avg', 'Wdmin_Min', 'Wdavg', 'Wdmax_Max', 'Wsmin_Min', 'Wsavg_Avg', 'Wsmax_Max', 'airtemp_Avg', 'relhumidity_Avg', 'airpressure_Avg', 'Ramount', 'Rduration_Avg', 'Rintensity_Avg', 'Hamount', 'Hduration_Avg', 'Hintensity_Avg', 'T107_2_West_Avg', 'T107_6_West_Avg', 'T107_12_West_Avg', 'T107_25_West_Avg', 'T107_35_West_Avg', 'T107_50_West_Avg', 'T107_2_Mitte_Avg', 'T107_6_Mitte_Avg', 'T107_12_Mitte_Avg', 'T107_25_Mitte_Avg', 'T107_35_Mitte_Avg', 'T107_50_Mitte_Avg', 'T107_2_Ost_Avg', 'T107_6_Ost_Avg', 'T107_12_Ost_Avg', 'T107_25_Ost_Avg', 'T107_35_Ost_Avg', 'T107_50_Ost_Avg', 'VWC_2_West_Avg', 'VWC_6_West_Avg', 'VWC_12_West_Avg', 'VWC_25_West_Avg', 'VWC_35_West_Avg', 'VWC_50_West_Avg', 'VWC_2_Mitte_Avg', 'VWC_6_Mitte_Avg', 'VWC_12_Mitte_Avg', 'VWC_25_Mitte_Avg', 'VWC_35_Mitte_Avg', 'VWC_50_Mitte_Avg', 'VWC_2_Ost_Avg', 'VWC_6_Ost_Avg', 'VWC_12_Ost_Avg', 'VWC_25_Ost_Avg', 'VWC_35_Ost_Avg', 'VWC_50_Ost_Avg', 'Snow_Depth', 'PAR_1_Avg', 'PAR_2_Avg', 'SR_Out_Avg', 'SR_In_Avg', 'IR_Out_Avg', 'IR_In_Avg', 'NR01_TC_Avg/CNR4TC_Avg', 'NR01_TK_Avg/CNR4TK_Avg', 'NetRs_Avg', 'NetRl_Avg', 'Albedo_Avg', 'OutTot_Avg', 'InTot_Avg', 'NetTot_Avg', 'IR_OutCo_Avg', 'IR_InCo_Avg', 'H_Flux_8_Ost_neu_Avg', 'H_Flux_9_West_neu_Avg', 'BP_mbar_Avg', 'IR_TempC_Avg', 'Total_Avg', 'Diffuse_Avg', 'Sun', 'H_Flux_sc_9_Ost_Avg', 'H_Flux_sc_8_fernerOst_Avg', 'H_Flux_sc_8_Mitte_Avg', 'shf_cal(1)', 'shf_cal(2)', 'shf_cal(3)\\n'], 'parse_dates': ['TIMESTAMP']}, 'reader_method': 'csv'}\n"
     ]
    },
    {
     "data": {
      "text/html": [
       "<div>\n",
       "<style scoped>\n",
       "    .dataframe tbody tr th:only-of-type {\n",
       "        vertical-align: middle;\n",
       "    }\n",
       "\n",
       "    .dataframe tbody tr th {\n",
       "        vertical-align: top;\n",
       "    }\n",
       "\n",
       "    .dataframe thead th {\n",
       "        text-align: right;\n",
       "    }\n",
       "</style>\n",
       "<table border=\"1\" class=\"dataframe\">\n",
       "  <thead>\n",
       "    <tr style=\"text-align: right;\">\n",
       "      <th></th>\n",
       "      <th>BattV_Avg</th>\n",
       "      <th>PTemp_C_Avg</th>\n",
       "      <th>Wdmin_Min</th>\n",
       "      <th>Wdavg</th>\n",
       "      <th>Wdmax_Max</th>\n",
       "      <th>Wsmin_Min</th>\n",
       "      <th>Wsavg_Avg</th>\n",
       "      <th>Wsmax_Max</th>\n",
       "      <th>airtemp_Avg</th>\n",
       "      <th>relhumidity_Avg</th>\n",
       "      <th>...</th>\n",
       "      <th>IR_TempC_Avg</th>\n",
       "      <th>Total_Avg</th>\n",
       "      <th>Diffuse_Avg</th>\n",
       "      <th>Sun</th>\n",
       "      <th>H_Flux_sc_9_Ost_Avg</th>\n",
       "      <th>H_Flux_sc_8_fernerOst_Avg</th>\n",
       "      <th>H_Flux_sc_8_Mitte_Avg</th>\n",
       "      <th>shf_cal(1)</th>\n",
       "      <th>shf_cal(2)</th>\n",
       "      <th>shf_cal(3)\\n</th>\n",
       "    </tr>\n",
       "    <tr>\n",
       "      <th>TIMESTAMP</th>\n",
       "      <th></th>\n",
       "      <th></th>\n",
       "      <th></th>\n",
       "      <th></th>\n",
       "      <th></th>\n",
       "      <th></th>\n",
       "      <th></th>\n",
       "      <th></th>\n",
       "      <th></th>\n",
       "      <th></th>\n",
       "      <th></th>\n",
       "      <th></th>\n",
       "      <th></th>\n",
       "      <th></th>\n",
       "      <th></th>\n",
       "      <th></th>\n",
       "      <th></th>\n",
       "      <th></th>\n",
       "      <th></th>\n",
       "      <th></th>\n",
       "      <th></th>\n",
       "    </tr>\n",
       "  </thead>\n",
       "  <tbody>\n",
       "    <tr>\n",
       "      <th>2018-01-17 00:00:00</th>\n",
       "      <td>13.28</td>\n",
       "      <td>2.899</td>\n",
       "      <td>265</td>\n",
       "      <td>277</td>\n",
       "      <td>292</td>\n",
       "      <td>1.3</td>\n",
       "      <td>1.8</td>\n",
       "      <td>2.4</td>\n",
       "      <td>2.2</td>\n",
       "      <td>89.8</td>\n",
       "      <td>...</td>\n",
       "      <td>1.908</td>\n",
       "      <td>19.410</td>\n",
       "      <td>20.560</td>\n",
       "      <td>0</td>\n",
       "      <td>-6.334002</td>\n",
       "      <td>-5.797156</td>\n",
       "      <td>-5.934458</td>\n",
       "      <td>0.028665</td>\n",
       "      <td>0.049997</td>\n",
       "      <td>0.048279</td>\n",
       "    </tr>\n",
       "    <tr>\n",
       "      <th>2018-01-17 00:01:00</th>\n",
       "      <td>13.28</td>\n",
       "      <td>2.897</td>\n",
       "      <td>213</td>\n",
       "      <td>238</td>\n",
       "      <td>279</td>\n",
       "      <td>1.9</td>\n",
       "      <td>3.0</td>\n",
       "      <td>4.3</td>\n",
       "      <td>2.3</td>\n",
       "      <td>90.1</td>\n",
       "      <td>...</td>\n",
       "      <td>2.187</td>\n",
       "      <td>3.125</td>\n",
       "      <td>4.112</td>\n",
       "      <td>0</td>\n",
       "      <td>-6.217782</td>\n",
       "      <td>-5.697205</td>\n",
       "      <td>-5.796448</td>\n",
       "      <td>0.028665</td>\n",
       "      <td>0.049997</td>\n",
       "      <td>0.048279</td>\n",
       "    </tr>\n",
       "    <tr>\n",
       "      <th>2018-01-17 00:02:00</th>\n",
       "      <td>13.48</td>\n",
       "      <td>2.894</td>\n",
       "      <td>129</td>\n",
       "      <td>206</td>\n",
       "      <td>223</td>\n",
       "      <td>0.7</td>\n",
       "      <td>2.5</td>\n",
       "      <td>3.4</td>\n",
       "      <td>2.4</td>\n",
       "      <td>90.0</td>\n",
       "      <td>...</td>\n",
       "      <td>2.160</td>\n",
       "      <td>0.987</td>\n",
       "      <td>1.974</td>\n",
       "      <td>0</td>\n",
       "      <td>NaN</td>\n",
       "      <td>NaN</td>\n",
       "      <td>NaN</td>\n",
       "      <td>0.028665</td>\n",
       "      <td>0.049997</td>\n",
       "      <td>0.048279</td>\n",
       "    </tr>\n",
       "    <tr>\n",
       "      <th>2018-01-17 00:03:00</th>\n",
       "      <td>13.47</td>\n",
       "      <td>2.899</td>\n",
       "      <td>223</td>\n",
       "      <td>268</td>\n",
       "      <td>315</td>\n",
       "      <td>1.0</td>\n",
       "      <td>2.5</td>\n",
       "      <td>3.6</td>\n",
       "      <td>2.5</td>\n",
       "      <td>89.7</td>\n",
       "      <td>...</td>\n",
       "      <td>2.185</td>\n",
       "      <td>1.151</td>\n",
       "      <td>1.809</td>\n",
       "      <td>0</td>\n",
       "      <td>NaN</td>\n",
       "      <td>NaN</td>\n",
       "      <td>NaN</td>\n",
       "      <td>0.028665</td>\n",
       "      <td>0.049997</td>\n",
       "      <td>0.048279</td>\n",
       "    </tr>\n",
       "    <tr>\n",
       "      <th>2018-01-17 00:04:00</th>\n",
       "      <td>13.54</td>\n",
       "      <td>2.910</td>\n",
       "      <td>218</td>\n",
       "      <td>237</td>\n",
       "      <td>275</td>\n",
       "      <td>1.6</td>\n",
       "      <td>2.1</td>\n",
       "      <td>2.3</td>\n",
       "      <td>2.6</td>\n",
       "      <td>89.1</td>\n",
       "      <td>...</td>\n",
       "      <td>2.165</td>\n",
       "      <td>17.930</td>\n",
       "      <td>18.910</td>\n",
       "      <td>0</td>\n",
       "      <td>NaN</td>\n",
       "      <td>NaN</td>\n",
       "      <td>NaN</td>\n",
       "      <td>0.028665</td>\n",
       "      <td>0.049997</td>\n",
       "      <td>0.048279</td>\n",
       "    </tr>\n",
       "  </tbody>\n",
       "</table>\n",
       "<p>5 rows × 83 columns</p>\n",
       "</div>"
      ],
      "text/plain": [
       "                     BattV_Avg  PTemp_C_Avg  Wdmin_Min  Wdavg  Wdmax_Max  \\\n",
       "TIMESTAMP                                                                  \n",
       "2018-01-17 00:00:00      13.28        2.899        265    277        292   \n",
       "2018-01-17 00:01:00      13.28        2.897        213    238        279   \n",
       "2018-01-17 00:02:00      13.48        2.894        129    206        223   \n",
       "2018-01-17 00:03:00      13.47        2.899        223    268        315   \n",
       "2018-01-17 00:04:00      13.54        2.910        218    237        275   \n",
       "\n",
       "                     Wsmin_Min  Wsavg_Avg  Wsmax_Max  airtemp_Avg  \\\n",
       "TIMESTAMP                                                           \n",
       "2018-01-17 00:00:00        1.3        1.8        2.4          2.2   \n",
       "2018-01-17 00:01:00        1.9        3.0        4.3          2.3   \n",
       "2018-01-17 00:02:00        0.7        2.5        3.4          2.4   \n",
       "2018-01-17 00:03:00        1.0        2.5        3.6          2.5   \n",
       "2018-01-17 00:04:00        1.6        2.1        2.3          2.6   \n",
       "\n",
       "                     relhumidity_Avg  ...  IR_TempC_Avg  Total_Avg  \\\n",
       "TIMESTAMP                             ...                            \n",
       "2018-01-17 00:00:00             89.8  ...         1.908     19.410   \n",
       "2018-01-17 00:01:00             90.1  ...         2.187      3.125   \n",
       "2018-01-17 00:02:00             90.0  ...         2.160      0.987   \n",
       "2018-01-17 00:03:00             89.7  ...         2.185      1.151   \n",
       "2018-01-17 00:04:00             89.1  ...         2.165     17.930   \n",
       "\n",
       "                     Diffuse_Avg  Sun  H_Flux_sc_9_Ost_Avg  \\\n",
       "TIMESTAMP                                                    \n",
       "2018-01-17 00:00:00       20.560    0            -6.334002   \n",
       "2018-01-17 00:01:00        4.112    0            -6.217782   \n",
       "2018-01-17 00:02:00        1.974    0                  NaN   \n",
       "2018-01-17 00:03:00        1.809    0                  NaN   \n",
       "2018-01-17 00:04:00       18.910    0                  NaN   \n",
       "\n",
       "                     H_Flux_sc_8_fernerOst_Avg  H_Flux_sc_8_Mitte_Avg  \\\n",
       "TIMESTAMP                                                               \n",
       "2018-01-17 00:00:00                  -5.797156              -5.934458   \n",
       "2018-01-17 00:01:00                  -5.697205              -5.796448   \n",
       "2018-01-17 00:02:00                        NaN                    NaN   \n",
       "2018-01-17 00:03:00                        NaN                    NaN   \n",
       "2018-01-17 00:04:00                        NaN                    NaN   \n",
       "\n",
       "                     shf_cal(1)  shf_cal(2)  shf_cal(3)\\n  \n",
       "TIMESTAMP                                                  \n",
       "2018-01-17 00:00:00    0.028665    0.049997      0.048279  \n",
       "2018-01-17 00:01:00    0.028665    0.049997      0.048279  \n",
       "2018-01-17 00:02:00    0.028665    0.049997      0.048279  \n",
       "2018-01-17 00:03:00    0.028665    0.049997      0.048279  \n",
       "2018-01-17 00:04:00    0.028665    0.049997      0.048279  \n",
       "\n",
       "[5 rows x 83 columns]"
      ]
     },
     "execution_count": 32,
     "metadata": {},
     "output_type": "execute_result"
    }
   ],
   "source": [
    "colnames = open('/Users/werner-ch/Documents/Repos/ge-example/data/colnames.csv').readline().split(',')\n",
    "\n",
    "\n",
    "batch_kwargs = context.yield_batch_kwargs(data_asset_name, \n",
    "                                          reader_options={'encoding': 'utf-8',\n",
    "                                                          'names': colnames,\n",
    "                                                          'index_col': 'TIMESTAMP',\n",
    "                                                          'parse_dates': ['TIMESTAMP']\n",
    "                                                         })\n",
    "\n",
    "batch_kwargs = dict(batch_kwargs)\n",
    "batch_kwargs['reader_method'] = 'csv'\n",
    "print(batch_kwargs)\n",
    "batch = context.get_batch(normalized_data_asset_name, expectation_suite_name, batch_kwargs)\n",
    "batch.head()"
   ]
  },
  {
   "cell_type": "markdown",
   "metadata": {},
   "source": [
    "## 5. Get a pipeline run id\n",
    "\n",
    "Generate a run id, a timestamp, or a meaningful string that will help you refer to validation results. We recommend they be chronologically sortable.\n",
    "[Read more in the tutorial](https://docs.greatexpectations.io/en/latest/getting_started/pipeline_integration.html?utm_source=notebook&utm_medium=validate_data#set-a-run-id)"
   ]
  },
  {
   "cell_type": "code",
   "execution_count": 33,
   "metadata": {},
   "outputs": [
    {
     "data": {
      "text/plain": [
       "'2019-12-05T084120.328550Z'"
      ]
     },
     "execution_count": 33,
     "metadata": {},
     "output_type": "execute_result"
    }
   ],
   "source": [
    "# Let's make a simple sortable timestamp. Note this could come from your pipeline runner.\n",
    "run_id = datetime.utcnow().isoformat().replace(\":\", \"\") + \"Z\"\n",
    "run_id"
   ]
  },
  {
   "cell_type": "markdown",
   "metadata": {},
   "source": [
    "## 6. Validate the batch\n",
    "\n",
    "This is the \"workhorse\" of Great Expectations. Call it in your pipeline code after loading data and just before passing it to your computation.\n",
    "\n",
    "[Read more about the validate method in the tutorial](https://docs.greatexpectations.io/en/latest/tutorials/validate_data.html?utm_source=notebook&utm_medium=validate_data#validate-the-batch)\n"
   ]
  },
  {
   "cell_type": "code",
   "execution_count": 35,
   "metadata": {},
   "outputs": [],
   "source": [
    "#context.expect"
   ]
  },
  {
   "cell_type": "code",
   "execution_count": 36,
   "metadata": {},
   "outputs": [
    {
     "name": "stdout",
     "output_type": "stream",
     "text": [
      "data_2018\n",
      "2019-12-05T09:41:29+0100 - INFO - \t6 expectation(s) included in expectation_suite.\n",
      "This data meets all expectations for data_2018\n",
      "{\n",
      "    \"results\": [\n",
      "        {\n",
      "            \"success\": true,\n",
      "            \"result\": {\n",
      "                \"element_count\": 1439,\n",
      "                \"unexpected_count\": 0,\n",
      "                \"unexpected_percent\": 0.0,\n",
      "                \"partial_unexpected_list\": [],\n",
      "                \"unexpected_list\": [],\n",
      "                \"unexpected_index_list\": []\n",
      "            },\n",
      "            \"expectation_config\": {\n",
      "                \"expectation_type\": \"expect_column_values_to_not_be_null\",\n",
      "                \"kwargs\": {\n",
      "                    \"column\": \"BattV_Avg\",\n",
      "                    \"result_format\": \"COMPLETE\"\n",
      "                }\n",
      "            },\n",
      "            \"exception_info\": {\n",
      "                \"raised_exception\": false,\n",
      "                \"exception_message\": null,\n",
      "                \"exception_traceback\": null\n",
      "            }\n",
      "        },\n",
      "        {\n",
      "            \"success\": true,\n",
      "            \"result\": {\n",
      "                \"observed_value\": 5.027984711605281,\n",
      "                \"element_count\": 1439,\n",
      "                \"missing_count\": 0,\n",
      "                \"missing_percent\": 0.0\n",
      "            },\n",
      "            \"expectation_config\": {\n",
      "                \"expectation_type\": \"expect_column_mean_to_be_between\",\n",
      "                \"kwargs\": {\n",
      "                    \"column\": \"PTemp_C_Avg\",\n",
      "                    \"min_value\": -20,\n",
      "                    \"max_value\": 40,\n",
      "                    \"result_format\": \"COMPLETE\"\n",
      "                }\n",
      "            },\n",
      "            \"exception_info\": {\n",
      "                \"raised_exception\": false,\n",
      "                \"exception_message\": null,\n",
      "                \"exception_traceback\": null\n",
      "            }\n",
      "        },\n",
      "        {\n",
      "            \"success\": true,\n",
      "            \"result\": {\n",
      "                \"element_count\": 1439,\n",
      "                \"unexpected_count\": 0,\n",
      "                \"unexpected_percent\": 0.0,\n",
      "                \"partial_unexpected_list\": [],\n",
      "                \"unexpected_list\": [],\n",
      "                \"unexpected_index_list\": []\n",
      "            },\n",
      "            \"expectation_config\": {\n",
      "                \"expectation_type\": \"expect_column_values_to_not_be_null\",\n",
      "                \"kwargs\": {\n",
      "                    \"column\": \"PTemp_C_Avg\",\n",
      "                    \"result_format\": \"COMPLETE\"\n",
      "                }\n",
      "            },\n",
      "            \"exception_info\": {\n",
      "                \"raised_exception\": false,\n",
      "                \"exception_message\": null,\n",
      "                \"exception_traceback\": null\n",
      "            }\n",
      "        },\n",
      "        {\n",
      "            \"success\": true,\n",
      "            \"result\": {\n",
      "                \"observed_value\": 0.0,\n",
      "                \"element_count\": 1439,\n",
      "                \"missing_count\": 0,\n",
      "                \"missing_percent\": 0.0\n",
      "            },\n",
      "            \"expectation_config\": {\n",
      "                \"expectation_type\": \"expect_column_min_to_be_between\",\n",
      "                \"kwargs\": {\n",
      "                    \"column\": \"Ramount\",\n",
      "                    \"min_value\": 0,\n",
      "                    \"max_value\": 10,\n",
      "                    \"result_format\": \"COMPLETE\"\n",
      "                }\n",
      "            },\n",
      "            \"exception_info\": {\n",
      "                \"raised_exception\": false,\n",
      "                \"exception_message\": null,\n",
      "                \"exception_traceback\": null\n",
      "            }\n",
      "        },\n",
      "        {\n",
      "            \"success\": true,\n",
      "            \"result\": {\n",
      "                \"element_count\": 1439,\n",
      "                \"unexpected_count\": 0,\n",
      "                \"unexpected_percent\": 0.0,\n",
      "                \"partial_unexpected_list\": [],\n",
      "                \"unexpected_list\": [],\n",
      "                \"unexpected_index_list\": []\n",
      "            },\n",
      "            \"expectation_config\": {\n",
      "                \"expectation_type\": \"expect_column_values_to_not_be_null\",\n",
      "                \"kwargs\": {\n",
      "                    \"column\": \"Ramount\",\n",
      "                    \"result_format\": \"COMPLETE\"\n",
      "                }\n",
      "            },\n",
      "            \"exception_info\": {\n",
      "                \"raised_exception\": false,\n",
      "                \"exception_message\": null,\n",
      "                \"exception_traceback\": null\n",
      "            }\n",
      "        },\n",
      "        {\n",
      "            \"success\": true,\n",
      "            \"result\": {\n",
      "                \"element_count\": 1439,\n",
      "                \"unexpected_count\": 0,\n",
      "                \"unexpected_percent\": 0.0,\n",
      "                \"partial_unexpected_list\": [],\n",
      "                \"unexpected_list\": [],\n",
      "                \"unexpected_index_list\": []\n",
      "            },\n",
      "            \"expectation_config\": {\n",
      "                \"expectation_type\": \"expect_column_values_to_not_be_null\",\n",
      "                \"kwargs\": {\n",
      "                    \"column\": \"Rduration_Avg\",\n",
      "                    \"result_format\": \"COMPLETE\"\n",
      "                }\n",
      "            },\n",
      "            \"exception_info\": {\n",
      "                \"raised_exception\": false,\n",
      "                \"exception_message\": null,\n",
      "                \"exception_traceback\": null\n",
      "            }\n",
      "        }\n",
      "    ],\n",
      "    \"success\": true,\n",
      "    \"statistics\": {\n",
      "        \"evaluated_expectations\": 6,\n",
      "        \"successful_expectations\": 6,\n",
      "        \"unsuccessful_expectations\": 0,\n",
      "        \"success_percent\": 100.0\n",
      "    },\n",
      "    \"meta\": {\n",
      "        \"great_expectations.__version__\": \"0.8.6\",\n",
      "        \"data_asset_name\": \"tereno_fendt/s3/data_2018\",\n",
      "        \"expectation_suite_name\": \"basic\",\n",
      "        \"run_id\": \"2019-12-05T084120.328550Z\",\n",
      "        \"batch_kwargs\": {\n",
      "            \"s3\": \"s3a://ge-example/raw/tereno_fendt/2018/Fen_M_18_018.dat\",\n",
      "            \"reader_options\": {\n",
      "                \"sep\": \",\",\n",
      "                \"header\": null,\n",
      "                \"index_col\": \"TIMESTAMP\",\n",
      "                \"na_values\": \"NAN\",\n",
      "                \"engine\": \"python\",\n",
      "                \"encoding\": \"utf-8\",\n",
      "                \"names\": [\n",
      "                    \"TIMESTAMP\",\n",
      "                    \"BattV_Avg\",\n",
      "                    \"PTemp_C_Avg\",\n",
      "                    \"Wdmin_Min\",\n",
      "                    \"Wdavg\",\n",
      "                    \"Wdmax_Max\",\n",
      "                    \"Wsmin_Min\",\n",
      "                    \"Wsavg_Avg\",\n",
      "                    \"Wsmax_Max\",\n",
      "                    \"airtemp_Avg\",\n",
      "                    \"relhumidity_Avg\",\n",
      "                    \"airpressure_Avg\",\n",
      "                    \"Ramount\",\n",
      "                    \"Rduration_Avg\",\n",
      "                    \"Rintensity_Avg\",\n",
      "                    \"Hamount\",\n",
      "                    \"Hduration_Avg\",\n",
      "                    \"Hintensity_Avg\",\n",
      "                    \"T107_2_West_Avg\",\n",
      "                    \"T107_6_West_Avg\",\n",
      "                    \"T107_12_West_Avg\",\n",
      "                    \"T107_25_West_Avg\",\n",
      "                    \"T107_35_West_Avg\",\n",
      "                    \"T107_50_West_Avg\",\n",
      "                    \"T107_2_Mitte_Avg\",\n",
      "                    \"T107_6_Mitte_Avg\",\n",
      "                    \"T107_12_Mitte_Avg\",\n",
      "                    \"T107_25_Mitte_Avg\",\n",
      "                    \"T107_35_Mitte_Avg\",\n",
      "                    \"T107_50_Mitte_Avg\",\n",
      "                    \"T107_2_Ost_Avg\",\n",
      "                    \"T107_6_Ost_Avg\",\n",
      "                    \"T107_12_Ost_Avg\",\n",
      "                    \"T107_25_Ost_Avg\",\n",
      "                    \"T107_35_Ost_Avg\",\n",
      "                    \"T107_50_Ost_Avg\",\n",
      "                    \"VWC_2_West_Avg\",\n",
      "                    \"VWC_6_West_Avg\",\n",
      "                    \"VWC_12_West_Avg\",\n",
      "                    \"VWC_25_West_Avg\",\n",
      "                    \"VWC_35_West_Avg\",\n",
      "                    \"VWC_50_West_Avg\",\n",
      "                    \"VWC_2_Mitte_Avg\",\n",
      "                    \"VWC_6_Mitte_Avg\",\n",
      "                    \"VWC_12_Mitte_Avg\",\n",
      "                    \"VWC_25_Mitte_Avg\",\n",
      "                    \"VWC_35_Mitte_Avg\",\n",
      "                    \"VWC_50_Mitte_Avg\",\n",
      "                    \"VWC_2_Ost_Avg\",\n",
      "                    \"VWC_6_Ost_Avg\",\n",
      "                    \"VWC_12_Ost_Avg\",\n",
      "                    \"VWC_25_Ost_Avg\",\n",
      "                    \"VWC_35_Ost_Avg\",\n",
      "                    \"VWC_50_Ost_Avg\",\n",
      "                    \"Snow_Depth\",\n",
      "                    \"PAR_1_Avg\",\n",
      "                    \"PAR_2_Avg\",\n",
      "                    \"SR_Out_Avg\",\n",
      "                    \"SR_In_Avg\",\n",
      "                    \"IR_Out_Avg\",\n",
      "                    \"IR_In_Avg\",\n",
      "                    \"NR01_TC_Avg/CNR4TC_Avg\",\n",
      "                    \"NR01_TK_Avg/CNR4TK_Avg\",\n",
      "                    \"NetRs_Avg\",\n",
      "                    \"NetRl_Avg\",\n",
      "                    \"Albedo_Avg\",\n",
      "                    \"OutTot_Avg\",\n",
      "                    \"InTot_Avg\",\n",
      "                    \"NetTot_Avg\",\n",
      "                    \"IR_OutCo_Avg\",\n",
      "                    \"IR_InCo_Avg\",\n",
      "                    \"H_Flux_8_Ost_neu_Avg\",\n",
      "                    \"H_Flux_9_West_neu_Avg\",\n",
      "                    \"BP_mbar_Avg\",\n",
      "                    \"IR_TempC_Avg\",\n",
      "                    \"Total_Avg\",\n",
      "                    \"Diffuse_Avg\",\n",
      "                    \"Sun\",\n",
      "                    \"H_Flux_sc_9_Ost_Avg\",\n",
      "                    \"H_Flux_sc_8_fernerOst_Avg\",\n",
      "                    \"H_Flux_sc_8_Mitte_Avg\",\n",
      "                    \"shf_cal(1)\",\n",
      "                    \"shf_cal(2)\",\n",
      "                    \"shf_cal(3)\\n\"\n",
      "                ],\n",
      "                \"parse_dates\": [\n",
      "                    \"TIMESTAMP\"\n",
      "                ]\n",
      "            },\n",
      "            \"reader_method\": \"csv\"\n",
      "        },\n",
      "        \"batch_id\": {\n",
      "            \"timestamp\": 1575535288.731029,\n",
      "            \"fingerprint\": \"e133d4001066ad5871ba7649d8ba7a5c\"\n",
      "        }\n",
      "    }\n",
      "}\n"
     ]
    }
   ],
   "source": [
    "exit = 1\n",
    "while exit < 2:\n",
    "    if exit> 2: \n",
    "        break\n",
    "    print(data_asset_name)\n",
    "    batch_kwargs = context.yield_batch_kwargs(data_asset_name, \n",
    "                                              reader_options={'encoding': 'utf-8',\n",
    "                                                              'names': colnames,\n",
    "                                                              'index_col': 'TIMESTAMP',\n",
    "                                                              'parse_dates': ['TIMESTAMP']\n",
    "                                                             })\n",
    "\n",
    "    batch_kwargs = dict(batch_kwargs)\n",
    "    batch_kwargs['reader_method'] = 'csv'\n",
    "    batch = context.get_batch(normalized_data_asset_name, expectation_suite_name, batch_kwargs)\n",
    "    \n",
    "    \n",
    "    \n",
    "    validation_result = batch.validate(run_id=run_id, result_format='COMPLETE')\n",
    "\n",
    "    if validation_result[\"success\"]:\n",
    "        print(\"This data meets all expectations for {}\".format(str(data_asset_name)))\n",
    "        print(json.dumps(validation_result, indent=4))\n",
    "    else:\n",
    "        print(\"This data is not a valid batch of {}\".format(str(data_asset_name)))\n",
    "        \n",
    "    exit += 1"
   ]
  },
  {
   "cell_type": "code",
   "execution_count": 38,
   "metadata": {},
   "outputs": [
    {
     "name": "stdout",
     "output_type": "stream",
     "text": [
      "2019-12-05T09:43:38+0100 - WARNING - Instantiating class from config without an explicit class_name is dangerous. Consider adding an explicit class_name for None\n"
     ]
    },
    {
     "data": {
      "text/plain": [
       "{'local_site': '/Users/werner-ch/Documents/Repos/ge-example/great_expectations/uncommitted/data_docs/local_site/index.html'}"
      ]
     },
     "execution_count": 38,
     "metadata": {},
     "output_type": "execute_result"
    }
   ],
   "source": [
    "# update docs\n",
    "context.build_data_docs()"
   ]
  },
  {
   "cell_type": "code",
   "execution_count": 39,
   "metadata": {},
   "outputs": [],
   "source": [
    "context.open_data_docs()"
   ]
  },
  {
   "cell_type": "markdown",
   "metadata": {},
   "source": [
    "## 6.a. OPTIONAL: Review the JSON validation results\n",
    "\n",
    "Don't worry - this blob of JSON is meant for machines. Continue on or skip this to see this in Data Docs!"
   ]
  },
  {
   "cell_type": "code",
   "execution_count": 31,
   "metadata": {},
   "outputs": [],
   "source": [
    "#print(json.dumps(validation_result, indent=4))"
   ]
  },
  {
   "cell_type": "markdown",
   "metadata": {},
   "source": [
    "## 7. Validation Operators\n",
    "\n",
    "The `validate` method evaluates one batch of data against one expectation suite and returns a dictionary of validation results. This is sufficient when you explore your data and get to know Great Expectations.\n",
    "When deploying Great Expectations in a **real data pipeline, you will typically discover additional needs**:\n",
    "\n",
    "* validating a group of batches that are logically related\n",
    "* validating a batch against several expectation suites such as using a tiered pattern like `warning` and `failure`\n",
    "* doing something with the validation results (e.g., saving them for a later review, sending notifications in case of failures, etc.).\n",
    "\n",
    "`Validation Operators` provide a convenient abstraction for both bundling the validation of multiple expectation suites and the actions that should be taken after the validation.\n",
    "\n",
    "[Read more about Validation Operators in the tutorial](https://docs.greatexpectations.io/en/latest/tutorials/validate_data.html?utm_source=notebook&utm_medium=validate_data#save-validation-results)"
   ]
  },
  {
   "cell_type": "code",
   "execution_count": 32,
   "metadata": {},
   "outputs": [
    {
     "name": "stdout",
     "output_type": "stream",
     "text": [
      "2019-11-28T13:56:58+0100 - INFO - \t6 expectation(s) included in expectation_suite.\n",
      "2019-11-28T13:56:59+0100 - WARNING - Instantiating class from config without an explicit class_name is dangerous. Consider adding an explicit class_name for None\n"
     ]
    }
   ],
   "source": [
    "# This is an example of invoking a validation operator that is configured by default in the great_expectations.yml file\n",
    "\n",
    "\n",
    "results = context.run_validation_operator(\n",
    "    assets_to_validate=[batch],\n",
    "    run_id=run_id,\n",
    "    validation_operator_name=\"action_list_operator\"\n",
    ")"
   ]
  },
  {
   "cell_type": "code",
   "execution_count": 33,
   "metadata": {},
   "outputs": [
    {
     "data": {
      "text/plain": [
       "ordereddict([('config_version', 1), ('datasources', ordereddict([('tereno_fendt', ordereddict([('class_name', 'PandasDatasource'), ('data_asset_type', ordereddict([('class_name', 'PandasDataset')])), ('generators', ordereddict([('s3', ordereddict([('class_name', 'S3Generator'), ('bucket', 'ge-example'), ('delimiter', '/'), ('reader_options', ordereddict([('sep', ','), ('header', None), ('index_col', 0), ('na_values', 'NAN'), ('engine', 'python')])), ('assets', ordereddict([('data_2018', ordereddict([('prefix', 'raw/tereno_fendt/2018/'), ('regex_filter', '.*.dat')])), ('data_2019', ordereddict([('prefix', 'raw/tereno_fendt/2019/'), ('regex_filter', '.*.dat')]))]))]))]))]))])), ('config_variables_file_path', 'uncommitted/config_variables.yml'), ('plugins_directory', 'plugins/'), ('validation_operators', ordereddict([('action_list_operator', {'class_name': 'ActionListValidationOperator', 'action_list': [{'name': 'store_validation_result', 'action': {'class_name': 'StoreAction'}}, {'name': 'update_data_docs', 'action': {'class_name': 'UpdateDataDocsAction'}}, {'name': 'send_slack_notification_on_validation_result', 'action': {'class_name': 'SlackNotificationAction', 'slack_webhook': 'https://mattermost.imk-ifu.kit.edu/hooks/hqfb99thci89zfrf7meen6hbch', 'notify_on': 'all', 'renderer': {'module_name': 'great_expectations.render.renderer.mattermost_renderer', 'class_name': 'MattermostRenderer'}}}]})])), ('stores', ordereddict([('expectations_store', {'class_name': 'ExpectationsStore', 'store_backend': {'class_name': 'FixedLengthTupleS3StoreBackend', 'bucket': 'ge-example', 'forbidden_substrings': [], 'key_length': 4, 'filepath_template': '{0}/{1}/{2}/{3}.json'}}), ('validations_store', {'class_name': 'ValidationsStore', 'store_backend': {'class_name': 'FixedLengthTupleS3StoreBackend', 'bucket': 'ge-example', 'forbidden_substrings': [], 'key_length': 5, 'filepath_template': '{0}/{1}/{2}/{3}/{4}.json'}}), ('evaluation_parameter_store', {'class_name': 'InMemoryEvaluationParameterStore'})])), ('expectations_store_name', 'expectations_store'), ('validations_store_name', 'validations_store'), ('evaluation_parameter_store_name', 'evaluation_parameter_store'), ('data_docs_sites', ordereddict([('local_site', ordereddict([('class_name', 'SiteBuilder'), ('store_backend', ordereddict([('class_name', 'FixedLengthTupleFilesystemStoreBackend'), ('base_directory', 'uncommitted/data_docs/local_site/')])), ('site_index_builder', ordereddict([('show_cta_footer', True)]))]))]))])"
      ]
     },
     "execution_count": 33,
     "metadata": {},
     "output_type": "execute_result"
    }
   ],
   "source": [
    "context.get_config()\n"
   ]
  },
  {
   "cell_type": "code",
   "execution_count": 34,
   "metadata": {},
   "outputs": [
    {
     "data": {
      "text/plain": [
       "'2019-11-28T125654.187738Z'"
      ]
     },
     "execution_count": 34,
     "metadata": {},
     "output_type": "execute_result"
    }
   ],
   "source": [
    "run_id"
   ]
  },
  {
   "cell_type": "markdown",
   "metadata": {},
   "source": [
    "## 8. View the Validation Results in Data Docs\n",
    "\n",
    "Let's now build and look at your Data Docs. These will now include an **data quality report** built from the `ValidationResults` you just created that helps you communicate about your data with both machines and humans.\n",
    "\n",
    "[Read more about Data Docs in the tutorial](https://docs.greatexpectations.io/en/latest/tutorials/validate_data.html?utm_source=notebook&utm_medium=validate_data#view-the-validation-results-in-data-docs)"
   ]
  },
  {
   "cell_type": "code",
   "execution_count": 35,
   "metadata": {},
   "outputs": [],
   "source": [
    "context.open_data_docs()"
   ]
  },
  {
   "cell_type": "markdown",
   "metadata": {},
   "source": [
    "## Congratulations! You ran Validations!\n",
    "\n",
    "## Next steps:\n",
    "\n",
    "### 1. Author more interesting Expectations\n",
    "\n",
    "Here we used some **extremely basic** `Expectations`. To really harness the power of Great Expectations you can author much more interesting and specific `Expectations` to protect your data pipelines and defeat pipeline debt. Go to [create_expectations.ipynb](create_expectations.ipynb) to see how!\n",
    "\n",
    "### 2. Explore the documentation & community\n",
    "\n",
    "You are now among the elite data professionals who know how to build robust descriptions of your data and protections for pipelines and machine learning models. Join the [**Great Expectations Slack Channel**](https://greatexpectations.io/slack) to see how others are wielding these superpowers."
   ]
  },
  {
   "cell_type": "code",
   "execution_count": null,
   "metadata": {},
   "outputs": [],
   "source": []
  },
  {
   "cell_type": "code",
   "execution_count": null,
   "metadata": {},
   "outputs": [],
   "source": []
  },
  {
   "cell_type": "code",
   "execution_count": 87,
   "metadata": {},
   "outputs": [
    {
     "ename": "KeyError",
     "evalue": "'ActionListValidationOperator'",
     "output_type": "error",
     "traceback": [
      "\u001b[0;31m---------------------------------------------------------------------------\u001b[0m",
      "\u001b[0;31mKeyError\u001b[0m                                  Traceback (most recent call last)",
      "\u001b[0;32m<ipython-input-87-d9f0a61aa16a>\u001b[0m in \u001b[0;36m<module>\u001b[0;34m\u001b[0m\n\u001b[0;32m----> 1\u001b[0;31m results = context.run_validation_operator(\n\u001b[0m\u001b[1;32m      2\u001b[0m     \u001b[0massets_to_validate\u001b[0m\u001b[0;34m=\u001b[0m\u001b[0;34m[\u001b[0m\u001b[0mbatch\u001b[0m\u001b[0;34m]\u001b[0m\u001b[0;34m,\u001b[0m\u001b[0;34m\u001b[0m\u001b[0;34m\u001b[0m\u001b[0m\n\u001b[1;32m      3\u001b[0m     \u001b[0mrun_id\u001b[0m\u001b[0;34m=\u001b[0m\u001b[0;34m\"first-batch-test\"\u001b[0m\u001b[0;34m,\u001b[0m\u001b[0;34m\u001b[0m\u001b[0;34m\u001b[0m\u001b[0m\n\u001b[1;32m      4\u001b[0m     \u001b[0mvalidation_operator_name\u001b[0m\u001b[0;34m=\u001b[0m\u001b[0;34m\"ActionListValidationOperator\"\u001b[0m\u001b[0;34m,\u001b[0m\u001b[0;34m\u001b[0m\u001b[0;34m\u001b[0m\u001b[0m\n\u001b[1;32m      5\u001b[0m )\n",
      "\u001b[0;32m~/.pyenv/versions/ge-example/lib/python3.8/site-packages/great_expectations/data_context/data_context.py\u001b[0m in \u001b[0;36mrun_validation_operator\u001b[0;34m(self, validation_operator_name, assets_to_validate, run_id)\u001b[0m\n\u001b[1;32m    764\u001b[0m         \u001b[0;34m:\u001b[0m\u001b[0;32mreturn\u001b[0m\u001b[0;34m:\u001b[0m \u001b[0mA\u001b[0m \u001b[0mresult\u001b[0m \u001b[0mobject\u001b[0m \u001b[0mthat\u001b[0m \u001b[0;32mis\u001b[0m \u001b[0mdefined\u001b[0m \u001b[0mby\u001b[0m \u001b[0mthe\u001b[0m \u001b[0;32mclass\u001b[0m \u001b[0mof\u001b[0m \u001b[0mthe\u001b[0m \u001b[0moperator\u001b[0m \u001b[0mthat\u001b[0m \u001b[0;32mis\u001b[0m \u001b[0minvoked\u001b[0m\u001b[0;34m.\u001b[0m\u001b[0;34m\u001b[0m\u001b[0;34m\u001b[0m\u001b[0m\n\u001b[1;32m    765\u001b[0m         \"\"\"\n\u001b[0;32m--> 766\u001b[0;31m         return self.validation_operators[validation_operator_name].run(\n\u001b[0m\u001b[1;32m    767\u001b[0m             \u001b[0massets_to_validate\u001b[0m\u001b[0;34m=\u001b[0m\u001b[0massets_to_validate\u001b[0m\u001b[0;34m,\u001b[0m\u001b[0;34m\u001b[0m\u001b[0;34m\u001b[0m\u001b[0m\n\u001b[1;32m    768\u001b[0m             \u001b[0mrun_id\u001b[0m\u001b[0;34m=\u001b[0m\u001b[0mrun_id\u001b[0m\u001b[0;34m,\u001b[0m\u001b[0;34m\u001b[0m\u001b[0;34m\u001b[0m\u001b[0m\n",
      "\u001b[0;31mKeyError\u001b[0m: 'ActionListValidationOperator'"
     ]
    }
   ],
   "source": [
    "results = context.run_validation_operator(\n",
    "    assets_to_validate=[batch],\n",
    "    run_id=\"first-batch-test\",\n",
    "    validation_operator_name=\"ActionListValidationOperator\",\n",
    ")"
   ]
  },
  {
   "cell_type": "code",
   "execution_count": null,
   "metadata": {},
   "outputs": [],
   "source": []
  },
  {
   "cell_type": "code",
   "execution_count": null,
   "metadata": {},
   "outputs": [],
   "source": []
  },
  {
   "cell_type": "code",
   "execution_count": null,
   "metadata": {},
   "outputs": [],
   "source": []
  },
  {
   "cell_type": "code",
   "execution_count": null,
   "metadata": {},
   "outputs": [],
   "source": []
  }
 ],
 "metadata": {
  "kernelspec": {
   "display_name": "ge-example",
   "language": "python",
   "name": "ge-example"
  },
  "language_info": {
   "codemirror_mode": {
    "name": "ipython",
    "version": 3
   },
   "file_extension": ".py",
   "mimetype": "text/x-python",
   "name": "python",
   "nbconvert_exporter": "python",
   "pygments_lexer": "ipython3",
   "version": "3.8.0"
  },
  "pycharm": {
   "stem_cell": {
    "cell_type": "raw",
    "metadata": {
     "collapsed": false
    },
    "source": []
   }
  }
 },
 "nbformat": 4,
 "nbformat_minor": 4
}
